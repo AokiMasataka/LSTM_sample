{
  "nbformat": 4,
  "nbformat_minor": 0,
  "metadata": {
    "colab": {
      "name": "STAIR.ipynb",
      "provenance": [],
      "collapsed_sections": [],
      "mount_file_id": "1hpNM1Pzfhg8xUv6BCn-vWc1D1I6VkIqb",
      "authorship_tag": "ABX9TyM/3zBI0gKGf8VaH8/UarTR",
      "include_colab_link": true
    },
    "kernelspec": {
      "name": "python3",
      "display_name": "Python 3"
    },
    "accelerator": "GPU"
  },
  "cells": [
    {
      "cell_type": "markdown",
      "metadata": {
        "id": "view-in-github",
        "colab_type": "text"
      },
      "source": [
        "<a href=\"https://colab.research.google.com/github/AokiMasataka/LSTM_sample/blob/linear-feature-encoder/STAIR.ipynb\" target=\"_parent\"><img src=\"https://colab.research.google.com/assets/colab-badge.svg\" alt=\"Open In Colab\"/></a>"
      ]
    },
    {
      "cell_type": "code",
      "metadata": {
        "id": "tzLQdUVbsJuY",
        "colab_type": "code",
        "colab": {}
      },
      "source": [
        "!apt install aptitude\n",
        "!aptitude install mecab libmecab-dev mecab-ipadic-utf8 git make curl xz-utils file -y\n",
        "!pip install mecab-python3==0.7"
      ],
      "execution_count": null,
      "outputs": []
    },
    {
      "cell_type": "code",
      "metadata": {
        "id": "N6IVBwsXCj-n",
        "colab_type": "code",
        "colab": {}
      },
      "source": [
        "import torch\n",
        "from torch import nn, optim\n",
        "from torch.nn.utils.rnn import pad_sequence, pack_padded_sequence\n",
        "import torch.nn.functional as F\n",
        "from torchvision import models\n",
        "import numpy as np\n",
        "import json\n",
        "import MeCab\n",
        "from PIL import Image\n",
        "import requests\n",
        "from io import BytesIO\n",
        "import umap # UMAP\n",
        "\n",
        "tagger = MeCab.Tagger(\"-Owakati\")\n",
        "def inverse_dict(d):\n",
        "    return {v:int(k) for k,v in d.items()}\n",
        "\n",
        "json_open = open('drive/My Drive/Colab Notebooks/stair_captions/stair_captions_train.json', 'r', encoding=\"utf-8\")\n",
        "stairCaptions = json.load(json_open)\n",
        "\n",
        "json_open = open('drive/My Drive/Colab Notebooks/stair_captions/words.json', 'r', encoding=\"utf-8\")\n",
        "index2word = json.load(json_open)\n",
        "word2index = inverse_dict(index2word)\n",
        "\n",
        "VOCAB_SIZE = len(word2index) # length is 29931\n",
        "EMBEDDING_DIM = 512\n",
        "MAXMUM_WORDS = 24\n",
        "BATCH_SIZE = 8\n",
        "device = torch.device('cuda' if torch.cuda.is_available() else 'cpu')\n",
        "epochs = 100\n"
      ],
      "execution_count": 2,
      "outputs": []
    },
    {
      "cell_type": "code",
      "metadata": {
        "id": "9s_msP4U1gHD",
        "colab_type": "code",
        "colab": {}
      },
      "source": [
        "def sentence2index(sentence, pad=True):\n",
        "    sentence = tagger.parse(sentence)\n",
        "    wakati = list(sentence.split(\" \"))\n",
        "    wakati.insert(0, '<start>')\n",
        "    wakati[len(wakati) - 1] = '<end>'\n",
        "    if not pad:\n",
        "      return torch.tensor([word2index[w] for w in wakati], dtype=torch.long)\n",
        "    else:\n",
        "      index = torch.tensor([word2index[w] for w in wakati])\n",
        "      if MAXMUM_WORDS < index.shape[0]:\n",
        "       return index[:MAXMUM_WORDS]\n",
        "      padding = torch.zeros(MAXMUM_WORDS - index.shape[0])\n",
        "      return torch.cat((index, padding), 0).to(torch.long)\n",
        "\n",
        "def index2sentence(ndarray):\n",
        "  sentence = ''\n",
        "  for index in ndarray:\n",
        "    sentence += index2word[str(index)]\n",
        "  return sentence"
      ],
      "execution_count": 3,
      "outputs": []
    },
    {
      "cell_type": "code",
      "metadata": {
        "id": "XuzxzoYq8IqM",
        "colab_type": "code",
        "colab": {}
      },
      "source": [
        "def getImg(url, toTensor=True):\n",
        "  response = requests.get(url)\n",
        "  img = np.array(Image.open(BytesIO(response.content)).convert('RGB')) / 255\n",
        "  img = np.transpose(img[np.newaxis], (0, 3, 1, 2))\n",
        "\n",
        "  if not toTensor:\n",
        "    return img\n",
        "  else:\n",
        "    return torch.tensor(img, dtype=torch.float32)"
      ],
      "execution_count": null,
      "outputs": []
    },
    {
      "cell_type": "code",
      "metadata": {
        "id": "7ncEUPRDOW9i",
        "colab_type": "code",
        "colab": {}
      },
      "source": [
        "class Encoder(nn.Module):\n",
        "    def __init__(self):\n",
        "        super(Encoder, self).__init__()\n",
        "        vgg = models.vgg16(pretrained=True)\n",
        "        self.features = nn.Sequential(*list(vgg.features)[:31]).eval().to(device)\n",
        "        for param in self.features.parameters():\n",
        "            param.requires_grad = False\n",
        "        self.GAP = (vgg.avgpool).to(device)\n",
        "        self.classifier = nn.Sequential(*list(vgg.classifier)[:1]).eval().to(device)\n",
        "        for param in self.classifier.parameters():\n",
        "            param.requires_grad = False\n",
        "        self.mean = torch.nn.Parameter(torch.tensor([0.485, 0.456, 0.406]).view(1, 3, 1, 1), requires_grad=False).to(device)\n",
        "        self.std = torch.nn.Parameter(torch.tensor([0.229, 0.224, 0.225]).view(1, 3, 1, 1), requires_grad=False).to(device)\n",
        "\n",
        "    def forward(self, image):\n",
        "        image = (image - self.mean) / self.std\n",
        "        x = self.features(image)\n",
        "        x = self.GAP(x)\n",
        "        x = x.reshape(x.shape[0], -1)\n",
        "        x = self.classifier(x) # output size(batchSize, 4096)\n",
        "        return x"
      ],
      "execution_count": null,
      "outputs": []
    },
    {
      "cell_type": "code",
      "metadata": {
        "id": "xCrQSbu1KkTk",
        "colab_type": "code",
        "colab": {}
      },
      "source": [
        "class Decoder(nn.Module):\n",
        "    def __init__(self, cuda=True, vocabSize=VOCAB_SIZE, embeddingDim=EMBEDDING_DIM, hiddenDim=2048):\n",
        "        super(Decoder, self).__init__()\n",
        "        self.hiddenDim = hiddenDim\n",
        "\n",
        "        self.featureEncoder = nn.Sequential(\n",
        "            nn.Linear(4096, 2048),\n",
        "            nn.Dropout(0.1),\n",
        "            nn.ReLU(),\n",
        "            nn.Linear(2048, 1024),\n",
        "            nn.Dropout(0.1),\n",
        "            nn.ReLU(),\n",
        "            nn.Linear(1024, 512)\n",
        "        )\n",
        "\n",
        "        self.word_embeddings = nn.Embedding(vocabSize, embeddingDim)\n",
        "        self.lstm = nn.LSTM(input_size=embeddingDim, hidden_size=hiddenDim, batch_first=True, num_layers=1)\n",
        "\n",
        "        self.decod = nn.Sequential(\n",
        "            nn.Linear(hiddenDim, hiddenDim * 4),\n",
        "            nn.Dropout(0.1),\n",
        "            nn.ReLU(),\n",
        "            nn.Linear(hiddenDim * 4, vocabSize)\n",
        "        )\n",
        "\n",
        "    def forward(self, feature, sentence, lengths):\n",
        "        feature = self.featureEncoder(feature)\n",
        "\n",
        "        embeds = self.word_embeddings(sentence)\n",
        "        embeds = attention(embeds, embeds, embeds)\n",
        "        embeds = torch.cat((feature.unsqueeze(1), embeds), 1)\n",
        "        packed = pack_padded_sequence(embeds, lengths, batch_first=True, enforce_sorted=False)\n",
        "        output, self.hidden = self.lstm(packed)\n",
        "        output = self.decod(output[0])\n",
        "        return output\n",
        "\n",
        "    def caption(self, feature, states=None):\n",
        "        sampled_ids = []\n",
        "        feature = self.featureEncoder(feature)\n",
        "        inputs = feature.unsqueeze(1)\n",
        "        for i in range(MAXMUM_WORDS):\n",
        "            hiddens, states = self.lstm(inputs, states)\n",
        "            outputs = self.liner(hiddens.squeeze(1))            # outputs:  (batch_size, vocab_size)\n",
        "            _, predicted = outputs.max(1)                        # predicted: (batch_size)\n",
        "            sampled_ids.append(predicted)\n",
        "            inputs = self.word_embeddings(predicted)                       # inputs: (batch_size, embed_size)\n",
        "            inputs = inputs.unsqueeze(1)\n",
        "            if predicted.item() == 2:\n",
        "              break                        \n",
        "        sampled_ids = torch.stack(sampled_ids, 1)                # sampled_ids: (batch_size, max_seq_length)\n",
        "        return sampled_ids\n",
        "\n",
        "def attention(q, k, v):\n",
        "    scores = torch.matmul(q, k.transpose(-2, -1))\n",
        "    scores = torch.nn.functional.softmax(scores, dim=-1)\n",
        "    output = torch.matmul(scores, v)\n",
        "    return output"
      ],
      "execution_count": 4,
      "outputs": []
    },
    {
      "cell_type": "code",
      "metadata": {
        "id": "FiYKTGHiedl0",
        "colab_type": "code",
        "colab": {}
      },
      "source": [
        "def train(decoder, e=None):\n",
        "  json_open = open('drive/My Drive/Colab Notebooks/stair_captions/index2image.json', 'r', encoding=\"utf-8\")\n",
        "  id2index = json.load(json_open)\n",
        "\n",
        "  encordedArrays = np.load('drive/My Drive/Colab Notebooks/stair_captions/encorded_ndarray.npy')\n",
        "  encordedTensors = torch.tensor(encordedArrays, dtype=torch.float)\n",
        "  del encordedArrays\n",
        "\n",
        "  if e:\n",
        "    modelPath = 'drive/My Drive/Colab Notebooks/LSTM_models/epoch' + str(e)\n",
        "    decoder.load_state_dict(torch.load(modelPath))\n",
        "  else:\n",
        "    e = 0\n",
        "\n",
        "  decoder.train().to(device)\n",
        "  optimizer = torch.optim.Adam(decoder.parameters(), lr=0.02)\n",
        "  CEL = nn.CrossEntropyLoss()\n",
        "\n",
        "  \n",
        "  pad = torch.tensor([1])\n",
        "  for epoch in range(1, epochs):\n",
        "    print(\"epoch :\", epoch + e)\n",
        "    iterate = 0\n",
        "    batch = 0\n",
        "    losses = 0\n",
        "    sentence = []\n",
        "    lengths = []\n",
        "    inputFeature = torch.empty((1, 4096))\n",
        "    for caption in stairCaptions['annotations'][:80000]:\n",
        "      try:\n",
        "        idx = id2index[str(caption['image_id'])]\n",
        "      except:\n",
        "        continue\n",
        "\n",
        "      lengths.append(sentence2index(caption['caption'], False).size(0))\n",
        "      sentence.append(sentence2index(caption['caption'], False))\n",
        "      inputFeature = torch.cat((inputFeature, encordedTensors[idx].unsqueeze(0)), dim=0)\n",
        "      batch += 1\n",
        "\n",
        "      if batch == BATCH_SIZE:\n",
        "        length = torch.tensor(lengths, dtype=torch.long).to(device)\n",
        "        data = pad_sequence(sentence, batch_first=True)\n",
        "        inputs = data[:, :-1].to(device)\n",
        "        targets = pack_padded_sequence(data.to(device), length, batch_first=True, enforce_sorted=False)[0]\n",
        "        inputFeature = inputFeature[1:].to(device)\n",
        "\n",
        "        output = decoder(inputFeature, inputs, length)\n",
        "        loss = CEL(output.view(-1, VOCAB_SIZE), targets.view(-1))\n",
        "        optimizer.zero_grad()\n",
        "        loss.backward()\n",
        "        optimizer.step()\n",
        "\n",
        "        sentence = []\n",
        "        lengths = []\n",
        "        inputFeature = torch.empty((1, 4096))\n",
        "        batch = 0\n",
        "        losses += loss.item()\n",
        "\n",
        "      iterate += 1\n",
        "      if (iterate + 1) % 1000 == 0:\n",
        "        print(\"loss :\", losses / 1000)\n",
        "        losses = 0\n",
        "\n",
        "    if (epoch+1) % 2:\n",
        "      model_path = 'drive/My Drive/Colab Notebooks/LSTM_models/epoch' + str(epoch + e)\n",
        "      torch.save(decoder.state_dict(), model_path)"
      ],
      "execution_count": 6,
      "outputs": []
    },
    {
      "cell_type": "code",
      "metadata": {
        "id": "-roXlUMTeXm5",
        "colab_type": "code",
        "colab": {
          "base_uri": "https://localhost:8080/",
          "height": 153
        },
        "outputId": "27307f04-5727-46a5-c165-e2b0d4eee6b7"
      },
      "source": [
        "decoder = Decoder()\n",
        "train(decoder)"
      ],
      "execution_count": null,
      "outputs": [
        {
          "output_type": "stream",
          "text": [
            "epoch : 1\n",
            "loss : 1.2594728116989136\n",
            "loss : 0.6127705137729644\n",
            "loss : 0.5809166824817658\n",
            "loss : 0.5542719004154205\n",
            "loss : 0.5596659944057465\n",
            "loss : 0.5453389592170715\n",
            "loss : 0.5242894151210785\n"
          ],
          "name": "stdout"
        }
      ]
    },
    {
      "cell_type": "code",
      "metadata": {
        "id": "pDhuelSvzQ8i",
        "colab_type": "code",
        "colab": {}
      },
      "source": [
        "def test(modelPath):\n",
        "  BATCH_SIZE = 1\n",
        "  json_open = open('drive/My Drive/Colab Notebooks/stair_captions/stair_captions_train.json', 'r', encoding=\"utf-8\")\n",
        "  captions = json.load(json_open)\n",
        "\n",
        "  json_open = open('drive/My Drive/Colab Notebooks/stair_captions/index2image.json', 'r', encoding=\"utf-8\")\n",
        "  id2index = json.load(json_open)\n",
        "\n",
        "  encordedArrays = np.load('drive/My Drive/Colab Notebooks/stair_captions/encorded_ndarray.npy')\n",
        "  encordedTensors = torch.tensor(encordedArrays, dtype=torch.float)\n",
        "  del encordedArrays\n",
        "\n",
        "  decoder = Decoder(False)\n",
        "  decoder.load_state_dict(torch.load(modelPath))\n",
        "  decoder.cpu()\n",
        "  encoder = Encoder().to(device)\n",
        "\n",
        "  rand = np.random.randint(0, 20000)\n",
        "  for image in captions['images'][rand:rand+10]:\n",
        "    try:\n",
        "      tensorImg = getImg(image['flickr_url'])\n",
        "    except:\n",
        "      continue\n",
        "    \n",
        "    tensorImg = tensorImg.to(device)\n",
        "    encordedImg = encoder(tensorImg)\n",
        "    encordedImg = encordedImg.cpu().view(1, -1)\n",
        "\n",
        "    sentence = decoder.caption(encordedImg)\n",
        "\n",
        "    print(image['flickr_url'])\n",
        "    sentence = sentence.detach().numpy().reshape(-1)\n",
        "    print(index2sentence(sentence), \" length :\", len(sentence))"
      ],
      "execution_count": null,
      "outputs": []
    },
    {
      "cell_type": "code",
      "metadata": {
        "id": "hHo1L2wJiLVz",
        "colab_type": "code",
        "colab": {}
      },
      "source": [
        "def _test(modelPath):\n",
        "  BATCH_SIZE = 1\n",
        "  json_open = open('drive/My Drive/Colab Notebooks/stair_captions/stair_captions_train.json', 'r', encoding=\"utf-8\")\n",
        "  captions = json.load(json_open)\n",
        "\n",
        "  json_open = open('drive/My Drive/Colab Notebooks/stair_captions/index2image.json', 'r', encoding=\"utf-8\")\n",
        "  id2index = json.load(json_open)\n",
        "\n",
        "  encordedArrays = np.load('drive/My Drive/Colab Notebooks/stair_captions/encorded_ndarray.npy')\n",
        "  encordedTensors = torch.tensor(encordedArrays, dtype=torch.float)\n",
        "  del encordedArrays\n",
        "\n",
        "  decoder = Decoder(False)\n",
        "  decoder.load_state_dict(torch.load(modelPath))\n",
        "  decoder.cpu()\n",
        "\n",
        "  rand = np.random.randint(0, 19000)\n",
        "  for caption in stairCaptions['annotations'][rand:rand+20]:\n",
        "    try:\n",
        "      idx = id2index[str(caption['image_id'])]\n",
        "    except:\n",
        "      continue\n",
        "    \n",
        "    encordedImg = encordedTensors[idx].unsqueeze(0)\n",
        "    sentence = decoder.caption(encordedImg)\n",
        "\n",
        "    for image in stairCaptions['images']:\n",
        "      if caption['image_id'] == image['id']:\n",
        "        print(image['flickr_url'])\n",
        "        break\n",
        "    sentence = sentence.detach().numpy().reshape(-1)\n",
        "    print(index2sentence(sentence), \" length :\", len(sentence))"
      ],
      "execution_count": null,
      "outputs": []
    },
    {
      "cell_type": "code",
      "metadata": {
        "id": "aSvm-tEQnmxm",
        "colab_type": "code",
        "colab": {}
      },
      "source": [
        "modelPath = 'drive/My Drive/Colab Notebooks/LSTM_models/epoch3'\n",
        "_test(modelPath)"
      ],
      "execution_count": null,
      "outputs": []
    }
  ]
}