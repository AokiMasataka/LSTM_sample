{
  "nbformat": 4,
  "nbformat_minor": 0,
  "metadata": {
    "colab": {
      "name": "STAIR.ipynb",
      "provenance": [],
      "collapsed_sections": [],
      "mount_file_id": "1hpNM1Pzfhg8xUv6BCn-vWc1D1I6VkIqb",
      "authorship_tag": "ABX9TyMjcksGPI4RbUn/HbWP/mm0",
      "include_colab_link": true
    },
    "kernelspec": {
      "name": "python3",
      "display_name": "Python 3"
    },
    "accelerator": "GPU"
  },
  "cells": [
    {
      "cell_type": "markdown",
      "metadata": {
        "id": "view-in-github",
        "colab_type": "text"
      },
      "source": [
        "<a href=\"https://colab.research.google.com/github/AokiMasataka/LSTM_sample/blob/cat-feature-and-sentence/STAIR.ipynb\" target=\"_parent\"><img src=\"https://colab.research.google.com/assets/colab-badge.svg\" alt=\"Open In Colab\"/></a>"
      ]
    },
    {
      "cell_type": "code",
      "metadata": {
        "id": "tzLQdUVbsJuY"
      },
      "source": [
        "!apt install aptitude\n",
        "!aptitude install mecab libmecab-dev mecab-ipadic-utf8 git make curl xz-utils file -y\n",
        "!pip install mecab-python3==0.7"
      ],
      "execution_count": null,
      "outputs": []
    },
    {
      "cell_type": "code",
      "metadata": {
        "id": "N6IVBwsXCj-n"
      },
      "source": [
        "import torch\n",
        "from torch import nn, optim\n",
        "from torch.nn.utils.rnn import pad_sequence\n",
        "from torchvision import models\n",
        "import numpy as np\n",
        "import json\n",
        "import MeCab\n",
        "\n",
        "\n",
        "tagger = MeCab.Tagger(\"-Owakati\")\n",
        "\n",
        "def inverse_dict(d):\n",
        "    return {v:int(k) for k,v in d.items()}\n",
        "\n",
        "json_open = open('drive/My Drive/Colab Notebooks/stair_captions/stair_captions_train.json', 'r', encoding=\"utf-8\")\n",
        "stairCaptions = json.load(json_open)\n",
        "\n",
        "json_open = open('drive/My Drive/Colab Notebooks/stair_captions/id2index.json', 'r', encoding=\"utf-8\")\n",
        "id2index = json.load(json_open)\n",
        "\n",
        "json_open = open('drive/My Drive/Colab Notebooks/stair_captions/words.json', 'r', encoding=\"utf-8\")\n",
        "index2word = json.load(json_open)\n",
        "word2index = inverse_dict(index2word)\n",
        "\n",
        "VOCAB_SIZE = len(word2index) # length is 29931\n",
        "EMBEDDING_DIM = 256\n",
        "MAXMUM_WORDS = 24\n",
        "BATCH_SIZE = 32\n",
        "epochs = 100\n",
        "device = torch.device('cuda' if torch.cuda.is_available() else 'cpu')"
      ],
      "execution_count": 1,
      "outputs": []
    },
    {
      "cell_type": "code",
      "metadata": {
        "id": "9s_msP4U1gHD"
      },
      "source": [
        "def sentence2index(sentence, pad=True):\n",
        "    sentence = tagger.parse(sentence)\n",
        "    wakati = list(sentence.split(\" \"))\n",
        "    wakati.insert(0, '<start>')\n",
        "    wakati[len(wakati) - 1] = '<end>'\n",
        "    if not pad:\n",
        "      return torch.tensor([word2index[w] for w in wakati], dtype=torch.long)\n",
        "    else:\n",
        "      index = torch.tensor([word2index[w] for w in wakati])\n",
        "      if MAXMUM_WORDS < index.shape[0]:\n",
        "       return index[:MAXMUM_WORDS]\n",
        "      padding = torch.zeros(MAXMUM_WORDS - index.shape[0])\n",
        "      return torch.cat((index, padding), 0).to(torch.long)\n",
        "\n",
        "def index2sentence(ndarray):\n",
        "  sentence = ''\n",
        "  for index in ndarray:\n",
        "    sentence += index2word[str(index)]\n",
        "  return sentence"
      ],
      "execution_count": 2,
      "outputs": []
    },
    {
      "cell_type": "code",
      "metadata": {
        "id": "XuzxzoYq8IqM"
      },
      "source": [
        "from PIL import Image\n",
        "import requests\n",
        "from io import BytesIO\n",
        "\n",
        "def getImg(url, toTensor=True):\n",
        "  response = requests.get(url)\n",
        "  img = np.array(Image.open(BytesIO(response.content)).convert('RGB')) / 255\n",
        "  img = np.transpose(img[np.newaxis], (0, 3, 1, 2))\n",
        "\n",
        "  if toTensor:\n",
        "    return torch.tensor(img, dtype=torch.float32)\n",
        "  else:\n",
        "    return img"
      ],
      "execution_count": 3,
      "outputs": []
    },
    {
      "cell_type": "code",
      "metadata": {
        "id": "7ncEUPRDOW9i"
      },
      "source": [
        "class Encoder(nn.Module):\n",
        "    def __init__(self):\n",
        "        super(Encoder, self).__init__()\n",
        "        vgg = models.vgg16(pretrained=True)\n",
        "        self.features = nn.Sequential(*list(vgg.features)[:31]).eval().to(device)\n",
        "        for param in self.features.parameters():\n",
        "            param.requires_grad = False\n",
        "        self.GAP = (vgg.avgpool).to(device)\n",
        "        self.classifier = nn.Sequential(*list(vgg.classifier)[:1]).eval().to(device)\n",
        "        for param in self.classifier.parameters():\n",
        "            param.requires_grad = False\n",
        "        self.mean = torch.nn.Parameter(torch.tensor([0.485, 0.456, 0.406]).view(1, 3, 1, 1), requires_grad=False).to(device)\n",
        "        self.std = torch.nn.Parameter(torch.tensor([0.229, 0.224, 0.225]).view(1, 3, 1, 1), requires_grad=False).to(device)\n",
        "\n",
        "    def forward(self, image):\n",
        "        image = (image - self.mean) / self.std\n",
        "        x = self.features(image)\n",
        "        x = self.GAP(x)\n",
        "        x = x.reshape(x.shape[0], -1)\n",
        "        x = self.classifier(x) # output shape(batchSize, 4096)\n",
        "        return x"
      ],
      "execution_count": 4,
      "outputs": []
    },
    {
      "cell_type": "code",
      "metadata": {
        "id": "xCrQSbu1KkTk"
      },
      "source": [
        "class Decoder(nn.Module):\n",
        "    def __init__(self, vocabSize=VOCAB_SIZE, embeddingDim=EMBEDDING_DIM, hiddenDim=512):\n",
        "        super(Decoder, self).__init__()\n",
        "        self.hiddenDim = hiddenDim\n",
        "        self.word_embeddings = nn.Embedding(vocabSize, embeddingDim)\n",
        "        self.lstm = nn.LSTM(input_size=embeddingDim, hidden_size=hiddenDim, batch_first=True, num_layers=1)\n",
        "        self.decod = nn.Linear(hiddenDim + 4096, vocabSize)\n",
        "\n",
        "    def forward(self, feature, sentence):\n",
        "        embeds = self.word_embeddings(sentence)\n",
        "        embeds = attention(embeds, embeds, embeds)\n",
        "        feature = feature.repeat(1, sentence.shape[1]).view(sentence.shape[0], -1, 4096)\n",
        "        output, self.hidden = self.lstm(embeds)\n",
        "        output = torch.cat((feature, output), dim=2)\n",
        "        output = self.decod(output)\n",
        "        return output\n",
        "\n",
        "    def caption(self, feature, states=None):\n",
        "        sampled_ids = []\n",
        "        inputs = self.word_embeddings(torch.ones(1, dtype=torch.long).view(1, 1))\n",
        "        feature = feature.unsqueeze(1)\n",
        "        \n",
        "        for i in range(MAXMUM_WORDS):\n",
        "            hiddens, states = self.lstm(inputs, states)\n",
        "            hiddens = torch.cat((feature, hiddens), dim=2)\n",
        "            outputs = self.decod(hiddens.squeeze(1))\n",
        "            _, predicted = outputs.max(1)\n",
        "            sampled_ids.append(predicted)\n",
        "            inputs = self.word_embeddings(predicted.view(1, -1))\n",
        "            if predicted.item() == 2:\n",
        "              break                        \n",
        "        sampled_ids = torch.stack(sampled_ids, 1)\n",
        "        return sampled_ids\n",
        "\n",
        "def attention(q, k, v):\n",
        "    scores = torch.matmul(q, k.transpose(-2, -1))\n",
        "    scores = torch.nn.functional.softmax(scores, dim=-1)\n",
        "    output = torch.matmul(scores, v)\n",
        "    return output"
      ],
      "execution_count": 3,
      "outputs": []
    },
    {
      "cell_type": "code",
      "metadata": {
        "id": "FiYKTGHiedl0"
      },
      "source": [
        "def train(decoder, e=0):\n",
        "  encordedArrays = np.load('drive/My Drive/Colab Notebooks/stair_captions/encorded_ndarray.npy')\n",
        "  encordedTensors = torch.tensor(encordedArrays, dtype=torch.float)\n",
        "  del encordedArrays\n",
        "\n",
        "  if e:\n",
        "    modelPath = 'drive/My Drive/Colab Notebooks/LSTM_models/epoch' + str(e)\n",
        "    decoder.load_state_dict(torch.load(modelPath))\n",
        "  decoder.train().to(device)\n",
        "\n",
        "  lr = 0.01\n",
        "  gamma = 0.9\n",
        "  for i in range(e):\n",
        "    lr *= gamma\n",
        "  optimizer = optim.Adam(decoder.parameters(), lr=lr)\n",
        "  scheduler = optim.lr_scheduler.StepLR(optimizer, step_size=1, gamma=gamma)\n",
        "  CEL = nn.CrossEntropyLoss()\n",
        "\n",
        "  for epoch in range(1, epochs):\n",
        "    print(\"epoch :\", epoch + e)\n",
        "    iterate = 0\n",
        "    losses = 0\n",
        "    sentence = []\n",
        "    inputFeature = torch.empty((1, 4096))\n",
        "    for caption in stairCaptions['annotations']:\n",
        "      try:\n",
        "        idx = id2index[str(caption['image_id'])]\n",
        "      except:\n",
        "        continue\n",
        "\n",
        "      sentence.append(sentence2index(caption['caption'], False))\n",
        "      inputFeature = torch.cat((inputFeature, encordedTensors[idx].unsqueeze(0)), dim=0)\n",
        "\n",
        "      if len(sentence) == BATCH_SIZE:\n",
        "        data = pad_sequence(sentence, batch_first=True)\n",
        "        inputs = data[:, :-1].to(device)\n",
        "        targets = data[:, 1:].to(device)\n",
        "        inputFeature = inputFeature[1:].to(device)\n",
        "\n",
        "        output = decoder(inputFeature, inputs)\n",
        "        loss = CEL(output.view(-1, VOCAB_SIZE), targets.view(-1))\n",
        "        optimizer.zero_grad()\n",
        "        loss.backward()\n",
        "        optimizer.step()\n",
        "\n",
        "        sentence.clear()\n",
        "        inputFeature = torch.empty((1, 4096))\n",
        "        losses += loss.item()\n",
        "\n",
        "        iterate += 1\n",
        "        if (iterate + 1) % 1000 == 0:\n",
        "          print(\"loss :\", losses / 1000)\n",
        "          losses = 0\n",
        "\n",
        "    if (epoch+1) % 2:\n",
        "      model_path = 'drive/My Drive/Colab Notebooks/LSTM_models/epoch' + str(epoch + e)\n",
        "      torch.save(decoder.state_dict(), model_path)\n",
        "    scheduler.step()"
      ],
      "execution_count": 6,
      "outputs": []
    },
    {
      "cell_type": "code",
      "metadata": {
        "id": "-roXlUMTeXm5",
        "outputId": "9572a954-38b1-4ebb-a682-68cf1094b03a",
        "colab": {
          "base_uri": "https://localhost:8080/",
          "height": 153
        }
      },
      "source": [
        "decoder = Decoder()\n",
        "train(decoder, 10)"
      ],
      "execution_count": null,
      "outputs": [
        {
          "output_type": "stream",
          "text": [
            "epoch : 11\n",
            "loss : 41.828515913963315\n",
            "loss : 39.78698519134522\n",
            "loss : 40.20301019287109\n",
            "loss : 40.97784920024872\n",
            "loss : 34.68417436981201\n",
            "loss : 39.543986574172976\n",
            "loss : 42.232407987594605\n"
          ],
          "name": "stdout"
        }
      ]
    },
    {
      "cell_type": "code",
      "metadata": {
        "id": "pDhuelSvzQ8i"
      },
      "source": [
        "def valTest(modelPath):\n",
        "  json_open = open('drive/My Drive/Colab Notebooks/stair_captions/stair_captions_val.json', 'r', encoding=\"utf-8\")\n",
        "  stairCaptions_val = json.load(json_open)\n",
        "  length = len(stairCaptions_val['images'])\n",
        "\n",
        "  encoder = Encoder().to(device)\n",
        "  decoder = Decoder()\n",
        "  decoder.load_state_dict(torch.load(modelPath))\n",
        "  decoder.cpu()\n",
        " \n",
        "  for i in range(10):\n",
        "    rand = np.random.randint(0, length)\n",
        "    image = stairCaptions_val['images'][rand]\n",
        "    try:\n",
        "      tensorImg = getImg(image['flickr_url'])\n",
        "    except:\n",
        "      continue\n",
        "    \n",
        "    tensorImg = tensorImg.to(device)\n",
        "    encordedImg = encoder(tensorImg)\n",
        "    encordedImg = encordedImg.cpu().view(1, -1)\n",
        "    sentence = decoder.caption(encordedImg)\n",
        " \n",
        "    print(image['flickr_url'])\n",
        "    sentence = sentence.detach().numpy().reshape(-1)\n",
        "    print(index2sentence(sentence), \" length :\", len(sentence))"
      ],
      "execution_count": 6,
      "outputs": []
    },
    {
      "cell_type": "code",
      "metadata": {
        "id": "hHo1L2wJiLVz"
      },
      "source": [
        "def trainTest(modelPath):\n",
        "  encordedArrays = np.load('drive/My Drive/Colab Notebooks/stair_captions/encorded_ndarray.npy')\n",
        "  encordedTensors = torch.tensor(encordedArrays, dtype=torch.float)\n",
        "  del encordedArrays\n",
        "\n",
        "  decoder = Decoder()\n",
        "  decoder.load_state_dict(torch.load(modelPath))\n",
        "  decoder.cpu()\n",
        "\n",
        "  rand = np.random.randint(0, 19000)\n",
        "  for caption in stairCaptions['annotations'][rand:rand+20]:\n",
        "    try:\n",
        "      idx = id2index[str(caption['image_id'])]\n",
        "    except:\n",
        "      continue\n",
        "    \n",
        "    inputFeature = encordedTensors[idx].unsqueeze(0)\n",
        "    sentence = decoder.caption(inputFeature)\n",
        "\n",
        "    for image in stairCaptions['images']:\n",
        "      if caption['image_id'] == image['id']:\n",
        "        print(image['flickr_url'])\n",
        "        break\n",
        "    sentence = sentence.detach().numpy().reshape(-1)\n",
        "    print(index2sentence(sentence), \" length :\", len(sentence))"
      ],
      "execution_count": 8,
      "outputs": []
    },
    {
      "cell_type": "code",
      "metadata": {
        "id": "aSvm-tEQnmxm",
        "outputId": "01603536-2897-41ff-fa4b-794eb994c6b9",
        "colab": {
          "base_uri": "https://localhost:8080/",
          "height": 289
        }
      },
      "source": [
        "modelPath = 'drive/My Drive/Colab Notebooks/LSTM_models/epoch10'\n",
        "valTest(modelPath)"
      ],
      "execution_count": 9,
      "outputs": [
        {
          "output_type": "stream",
          "text": [
            "http://farm4.staticflickr.com/3525/3233723212_8a19b94fb0_z.jpg\n",
            "大型のソファーに座った人が電話をした<end>  length : 13\n",
            "http://farm1.staticflickr.com/232/497132957_9e7a8b6573_z.jpg\n",
            "男女が窓を飲んでいる<end>  length : 8\n",
            "http://farm6.staticflickr.com/5307/5865555621_1361703e9a_z.jpg\n",
            "男女が銀色な男女が座った男女がいる<end>  length : 12\n",
            "http://farm8.staticflickr.com/7327/9429849541_7b6492b7e9_z.jpg\n",
            "ヒツジが芝生の上にいる<end>  length : 8\n",
            "http://farm5.staticflickr.com/4045/4249452981_776f79c86c_z.jpg\n",
            "洋服を着た人が歩いている<end>  length : 10\n",
            "http://farm3.staticflickr.com/2063/3873990649_f963624f8c_z.jpg\n",
            "男女がボールを打とうとしたボールを打とうとした男女<end>  length : 18\n",
            "http://farm4.staticflickr.com/3103/2561406947_c13271356e_z.jpg\n",
            "自転車の両隣に自転車に乗る自転車<end>  length : 9\n",
            "http://farm8.staticflickr.com/7285/8738685650_5d9586644a_z.jpg\n",
            "シルバーの列車が停留所にとまっており、その横にシルバーの列車がある<end>  length : 19\n"
          ],
          "name": "stdout"
        }
      ]
    }
  ]
}