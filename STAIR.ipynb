{
  "nbformat": 4,
  "nbformat_minor": 0,
  "metadata": {
    "colab": {
      "name": "STAIR.ipynb",
      "provenance": [],
      "collapsed_sections": [],
      "mount_file_id": "1hpNM1Pzfhg8xUv6BCn-vWc1D1I6VkIqb",
      "authorship_tag": "ABX9TyNgJwJTVHB2zO595g3/EOYx",
      "include_colab_link": true
    },
    "kernelspec": {
      "name": "python3",
      "display_name": "Python 3"
    },
    "accelerator": "GPU"
  },
  "cells": [
    {
      "cell_type": "markdown",
      "metadata": {
        "id": "view-in-github",
        "colab_type": "text"
      },
      "source": [
        "<a href=\"https://colab.research.google.com/github/AokiMasataka/LSTM_sample/blob/fix_train/STAIR.ipynb\" target=\"_parent\"><img src=\"https://colab.research.google.com/assets/colab-badge.svg\" alt=\"Open In Colab\"/></a>"
      ]
    },
    {
      "cell_type": "code",
      "metadata": {
        "id": "tzLQdUVbsJuY",
        "colab_type": "code",
        "colab": {}
      },
      "source": [
        "!apt install aptitude\n",
        "!aptitude install mecab libmecab-dev mecab-ipadic-utf8 git make curl xz-utils file -y\n",
        "!pip install mecab-python3==0.7"
      ],
      "execution_count": null,
      "outputs": []
    },
    {
      "cell_type": "code",
      "metadata": {
        "id": "N6IVBwsXCj-n",
        "colab_type": "code",
        "colab": {}
      },
      "source": [
        "import torch\n",
        "from torch import nn, optim\n",
        "import torch.nn.functional as F\n",
        "from torchvision import models\n",
        "import numpy as np\n",
        "import json\n",
        "import MeCab\n",
        "from PIL import Image\n",
        "import requests\n",
        "from io import BytesIO\n",
        "\n",
        "tagger = MeCab.Tagger(\"-Owakati\")\n",
        "def inverse_dict(d):\n",
        "    return {v:int(k) for k,v in d.items()}\n",
        "\n",
        "json_open = open('drive/My Drive/Colab Notebooks/stair_captions/stair_captions_train.json', 'r', encoding=\"utf-8\")\n",
        "stairCaptions = json.load(json_open)\n",
        "\n",
        "json_open = open('drive/My Drive/Colab Notebooks/stair_captions/words.json', 'r', encoding=\"utf-8\")\n",
        "index2word = json.load(json_open)\n",
        "word2index = inverse_dict(index2word)\n",
        "\n",
        "VOCAB_SIZE = len(word2index) # length is 29931\n",
        "EMBEDDING_DIM = 256\n",
        "MAXMUM_WORDS = 24\n",
        "BATCH_SIZE = 1\n",
        "device = torch.device('cuda' if torch.cuda.is_available() else 'cpu')\n",
        "epochs = 100\n"
      ],
      "execution_count": 1,
      "outputs": []
    },
    {
      "cell_type": "code",
      "metadata": {
        "id": "9s_msP4U1gHD",
        "colab_type": "code",
        "colab": {}
      },
      "source": [
        "def sentence2index(sentence, pad=True):\n",
        "    sentence = tagger.parse(sentence)\n",
        "    wakati = list(sentence.split(\" \"))\n",
        "    wakati.insert(0, '<start>')\n",
        "    wakati[len(wakati) - 1] = '<end>'\n",
        "    if not pad:\n",
        "      return torch.tensor([word2index[w] for w in wakati], dtype=torch.long)\n",
        "    else:\n",
        "      index = torch.tensor([word2index[w] for w in wakati])\n",
        "      if MAXMUM_WORDS < index.shape[0]:\n",
        "       return index[:MAXMUM_WORDS]\n",
        "      padding = torch.zeros(MAXMUM_WORDS - index.shape[0])\n",
        "      return torch.cat((index, padding), 0).to(torch.long)\n",
        "\n",
        "def index2sentence(ndarray):\n",
        "  sentence = ''\n",
        "  for index in ndarray:\n",
        "    sentence += index2word[str(index)]\n",
        "  return sentence"
      ],
      "execution_count": 2,
      "outputs": []
    },
    {
      "cell_type": "code",
      "metadata": {
        "id": "XuzxzoYq8IqM",
        "colab_type": "code",
        "colab": {}
      },
      "source": [
        "def getImg(url, toTensor=True):\n",
        "  response = requests.get(url)\n",
        "  img = np.array(Image.open(BytesIO(response.content)).convert('RGB')) / 255\n",
        "  img = np.transpose(img[np.newaxis], (0, 3, 1, 2))\n",
        "\n",
        "  if not toTensor:\n",
        "    return img\n",
        "  else:\n",
        "    return torch.tensor(img, dtype=torch.float32)"
      ],
      "execution_count": 3,
      "outputs": []
    },
    {
      "cell_type": "code",
      "metadata": {
        "id": "7ncEUPRDOW9i",
        "colab_type": "code",
        "colab": {}
      },
      "source": [
        "class Encoder(nn.Module):\n",
        "    def __init__(self):\n",
        "        super(Encoder, self).__init__()\n",
        "        vgg = models.vgg16(pretrained=True)\n",
        "        self.features = nn.Sequential(*list(vgg.features)[:31]).eval().to(device)\n",
        "        for param in self.features.parameters():\n",
        "            param.requires_grad = False\n",
        "        self.GAP = (vgg.avgpool).to(device)\n",
        "        self.classifier = nn.Sequential(*list(vgg.classifier)[:1]).eval().to(device)\n",
        "        for param in self.classifier.parameters():\n",
        "            param.requires_grad = False\n",
        "        self.mean = torch.nn.Parameter(torch.tensor([0.485, 0.456, 0.406]).view(1, 3, 1, 1), requires_grad=False).to(device)\n",
        "        self.std = torch.nn.Parameter(torch.tensor([0.229, 0.224, 0.225]).view(1, 3, 1, 1), requires_grad=False).to(device)\n",
        "\n",
        "    def forward(self, image):\n",
        "        image = (image - self.mean) / self.std\n",
        "        x = self.features(image)\n",
        "        x = self.GAP(x)\n",
        "        x = x.reshape(x.shape[0], -1)\n",
        "        x = self.classifier(x) # output size(batchSize, 4096)\n",
        "        return x"
      ],
      "execution_count": 3,
      "outputs": []
    },
    {
      "cell_type": "code",
      "metadata": {
        "id": "xCrQSbu1KkTk",
        "colab_type": "code",
        "colab": {}
      },
      "source": [
        "class Decoder(nn.Module):\n",
        "    def __init__(self, vocabSize=VOCAB_SIZE, embeddingDim=EMBEDDING_DIM, hiddenDim=2048):\n",
        "        super(Decoder, self).__init__()\n",
        "        self.hiddenDim = hiddenDim\n",
        "        self.word_embeddings = nn.Embedding(vocabSize, embeddingDim)\n",
        "        self.lstm = nn.LSTM(input_size=embeddingDim, hidden_size=hiddenDim, batch_first=True, num_layers=1)\n",
        "        self.liner = nn.Linear(hiddenDim + 4096, vocabSize)\n",
        "        self.hidden = self.init_hidden()\n",
        "    \n",
        "    def init_hidden(self):\n",
        "        return (torch.zeros(1, BATCH_SIZE, self.hiddenDim).to(device),\n",
        "                torch.zeros(1, BATCH_SIZE, self.hiddenDim).to(device))\n",
        "\n",
        "    def forward(self, encodedImage, sentence):\n",
        "        embeds = self.word_embeddings(sentence)\n",
        "        output, self.hidden = self.lstm(embeds, self.hidden)\n",
        "        output = attention(output, output, output)\n",
        "        repeatedEncodedImage = encodedImage.repeat(1, sentence.shape[1]).view(-1, sentence.shape[1], 4096)\n",
        "        output = torch.cat((output, repeatedEncodedImage), axis=-1)\n",
        "        output = self.liner(output)\n",
        "        return output\n",
        "\n",
        "def attention(q, k, v):\n",
        "    scores = torch.matmul(q, k.transpose(-2, -1))\n",
        "    scores = torch.nn.functional.softmax(scores, dim=-1)\n",
        "    output = torch.matmul(scores, v)\n",
        "    return output"
      ],
      "execution_count": 4,
      "outputs": []
    },
    {
      "cell_type": "code",
      "metadata": {
        "id": "jwcg-tS2PCb1",
        "colab_type": "code",
        "colab": {
          "base_uri": "https://localhost:8080/",
          "height": 34
        },
        "outputId": "2cb5286e-0eaf-4e08-962f-d0c8dc680e09"
      },
      "source": [
        "x = torch.zeros((BATCH_SIZE, MAXMUM_WORDS), dtype=torch.long)\n",
        "img = torch.rand((BATCH_SIZE, 4096))\n",
        "\n",
        "model = Decoder()\n",
        "model.eval()\n",
        "x = model(img, x)\n",
        "print(x.shape)"
      ],
      "execution_count": 20,
      "outputs": [
        {
          "output_type": "stream",
          "text": [
            "torch.Size([1, 24, 29931])\n"
          ],
          "name": "stdout"
        }
      ]
    },
    {
      "cell_type": "code",
      "metadata": {
        "id": "n6bQz99SGidD",
        "colab_type": "code",
        "colab": {}
      },
      "source": [
        "# def generateTrainData(sentence):\n",
        "#   torch.zeros(MAXMUM_WORDS, dtype=torch.long) + "
      ],
      "execution_count": null,
      "outputs": []
    },
    {
      "cell_type": "code",
      "metadata": {
        "id": "FiYKTGHiedl0",
        "colab_type": "code",
        "colab": {}
      },
      "source": [
        "def train(decoder, e=None):\n",
        "  json_open = open('drive/My Drive/Colab Notebooks/stair_captions/index2image.json', 'r', encoding=\"utf-8\")\n",
        "  id2index = json.load(json_open)\n",
        "\n",
        "  encordedArrays = np.load('drive/My Drive/Colab Notebooks/stair_captions/encorded_ndarray.npy')\n",
        "  encordedTensors = torch.tensor(encordedArrays, dtype=torch.float)\n",
        "  del encordedArrays\n",
        "\n",
        "  if e:\n",
        "    modelPath = 'drive/My Drive/Colab Notebooks/LSTM_models/epoch' + str(e)\n",
        "    decoder.load_state_dict(torch.load(modelPath))\n",
        "  else:\n",
        "    e = 0\n",
        "\n",
        "  decoder.train().to(device)\n",
        "  optimizer = torch.optim.SGD(decoder.parameters(), lr=0.05, momentum=0.9)\n",
        "  CEL = nn.CrossEntropyLoss()\n",
        "\n",
        "  \n",
        "  pad = torch.tensor([1])\n",
        "  for epoch in range(1, epochs):\n",
        "    print(\"epoch :\", epoch + e)\n",
        "    iterate = 0\n",
        "    batch = 0\n",
        "    sentence_x = torch.empty((1, MAXMUM_WORDS), dtype=torch.long)\n",
        "    sentence_y = torch.empty((1, MAXMUM_WORDS), dtype=torch.long)\n",
        "    inputFeature = torch.empty((1, 4096))\n",
        "    for caption in stairCaptions['annotations'][:20000]:\n",
        "      try:\n",
        "        idx = id2index[str(caption['image_id'])]\n",
        "      except:\n",
        "        continue\n",
        "\n",
        "      inputFeature = torch.cat((inputFeature, encordedTensors[idx].unsqueeze(0)), axis=0)\n",
        "      sentence_x = torch.cat((sentence_x, sentence2index(caption['caption']).unsqueeze(0)), axis=0)\n",
        "      sentence_y = torch.cat((sentence_y, torch.cat((sentence_x[-1, 1:], pad), axis=0).unsqueeze(0)), axis=0)\n",
        "      batch += 1\n",
        "\n",
        "      if batch == BATCH_SIZE:\n",
        "        sentence_x = sentence_x[1:].to(device)\n",
        "        sentence_y = sentence_y[1:].to(device)\n",
        "        inputFeature = inputFeature[1:].to(device)\n",
        "        decoder.hidden = decoder.init_hidden()  # LSTM初期化\n",
        "        output = decoder(inputFeature, sentence_x)\n",
        "        loss = CEL(output.view(-1, VOCAB_SIZE), sentence_y.view(-1))\n",
        "        optimizer.zero_grad()\n",
        "        loss.backward()\n",
        "        optimizer.step()\n",
        "\n",
        "        sentence_x = torch.empty((1, MAXMUM_WORDS), dtype=torch.long)\n",
        "        sentence_y = torch.empty((1, MAXMUM_WORDS), dtype=torch.long)\n",
        "        inputFeature = torch.empty((1, 4096))\n",
        "        batch = 0\n",
        "\n",
        "      iterate += 1\n",
        "      if (iterate + 1) % 1000 == 0:\n",
        "        print(\"loss :\", loss.item())\n",
        "\n",
        "    model_path = 'drive/My Drive/Colab Notebooks/LSTM_models/epoch' + str(epoch + e)\n",
        "    torch.save(decoder.state_dict(), model_path)"
      ],
      "execution_count": 17,
      "outputs": []
    },
    {
      "cell_type": "code",
      "metadata": {
        "id": "-roXlUMTeXm5",
        "colab_type": "code",
        "colab": {}
      },
      "source": [
        "decoder = Decoder()\n",
        "train(decoder)"
      ],
      "execution_count": null,
      "outputs": []
    },
    {
      "cell_type": "code",
      "metadata": {
        "id": "pDhuelSvzQ8i",
        "colab_type": "code",
        "colab": {}
      },
      "source": [
        "def test(modelPath):\n",
        "  BATCH_SIZE = 1\n",
        "  json_open = open('drive/My Drive/Colab Notebooks/stair_captions/stair_captions_train.json', 'r', encoding=\"utf-8\")\n",
        "  captions = json.load(json_open)\n",
        "\n",
        "  json_open = open('drive/My Drive/Colab Notebooks/stair_captions/index2image.json', 'r', encoding=\"utf-8\")\n",
        "  id2index = json.load(json_open)\n",
        "\n",
        "  encordedArrays = np.load('drive/My Drive/Colab Notebooks/stair_captions/encorded_ndarray.npy')\n",
        "  encordedTensors = torch.tensor(encordedArrays, dtype=torch.float)\n",
        "  del encordedArrays\n",
        "\n",
        "  decoder = Decoder()\n",
        "  decoder.load_state_dict(torch.load(modelPath))\n",
        "  decoder.cpu()\n",
        "  encoder = Encoder().to(device)\n",
        "\n",
        "  rand = np.random.randint(0, 20000)\n",
        "  for image in captions['images'][rand:rand+10]:\n",
        "    try:\n",
        "      tensorImg = getImg(image['flickr_url'])\n",
        "    except:\n",
        "      continue\n",
        "    \n",
        "    tensorImg = tensorImg.to(device)\n",
        "    encordedimg = encoder(tensorImg)\n",
        "    encordedImg = encordedimg.cpu().view(1, -1)\n",
        "\n",
        "    decoder.init_hidden()\n",
        "    sentence = torch.ones((1, 1), dtype=torch.long)\n",
        "    for i in range(1, MAXMUM_WORDS):\n",
        "    #   output = decoder(encordedImg, sentence)\n",
        "    #   number = torch.argmax(output[0, -1]).view(1, 1)\n",
        "    #   sentence = torch.cat((sentence, number.view(1, 1)), 1)\n",
        "    #   if number.item() == 2:\n",
        "    #     break\n",
        "      input = sentence[-1].unsqueeze(0)\n",
        "      output = decoder(encordedImg, input)\n",
        "      number = torch.argmax(output[0, -1]).view(1, 1)\n",
        "      sentence = torch.cat((sentence, number.view(1, 1)), 1)\n",
        "      if number.item() == 2:\n",
        "          break\n",
        "\n",
        "    \n",
        "    print(image['flickr_url'])\n",
        "    sentence = sentence.detach().numpy().reshape(-1)\n",
        "    print(index2sentence(sentence))"
      ],
      "execution_count": 21,
      "outputs": []
    },
    {
      "cell_type": "code",
      "metadata": {
        "id": "K-b95bdNxEpz",
        "colab_type": "code",
        "colab": {}
      },
      "source": [
        "def _test(modelPath):\n",
        "  BATCH_SIZE = 1\n",
        "  json_open = open('drive/My Drive/Colab Notebooks/stair_captions/stair_captions_train.json', 'r', encoding=\"utf-8\")\n",
        "  captions = json.load(json_open)\n",
        "\n",
        "  json_open = open('drive/My Drive/Colab Notebooks/stair_captions/index2image.json', 'r', encoding=\"utf-8\")\n",
        "  id2index = json.load(json_open)\n",
        "\n",
        "  encordedArrays = np.load('drive/My Drive/Colab Notebooks/stair_captions/encorded_ndarray.npy')\n",
        "  encordedTensors = torch.tensor(encordedArrays, dtype=torch.float)\n",
        "  del encordedArrays\n",
        "\n",
        "  decoder = Decoder()\n",
        "  decoder.load_state_dict(torch.load(modelPath))\n",
        "  decoder.to(device)\n",
        "\n",
        "  rand = np.random.randint(0, 20000)\n",
        "  for caption in stairCaptions['annotations'][rand:rand+10]:\n",
        "      try:\n",
        "        idx = id2index[str(caption['image_id'])]\n",
        "      except:\n",
        "        continue\n",
        "      encordedImg = encordedTensors[idx].unsqueeze(0).to(device)\n",
        "      sentence = torch.ones((1, 1), dtype=torch.long).to(device)\n",
        "      decoder.init_hidden()\n",
        "      for i in range(1, MAXMUM_WORDS):\n",
        "    #   output = decoder(encordedImg, sentence)\n",
        "    #   number = torch.argmax(output[0, -1]).view(1, 1)\n",
        "    #   sentence = torch.cat((sentence, number.view(1, 1)), 1)\n",
        "    #   if number.item() == 2:\n",
        "    #     break\n",
        "        input = sentence[-1].unsqueeze(0)\n",
        "        output = decoder(encordedImg, input)\n",
        "        number = torch.argmax(output[0, -1]).view(1, 1)\n",
        "        sentence = torch.cat((sentence, number.view(1, 1)), 1)\n",
        "        if number.item() == 2:\n",
        "            break\n",
        "\n",
        "    \n",
        "      # print(image['flickr_url'])\n",
        "      sentence = sentence.cpu().detach().numpy().reshape(-1)\n",
        "      print(index2sentence(sentence))"
      ],
      "execution_count": 18,
      "outputs": []
    },
    {
      "cell_type": "code",
      "metadata": {
        "id": "aSvm-tEQnmxm",
        "colab_type": "code",
        "colab": {
          "base_uri": "https://localhost:8080/",
          "height": 34
        },
        "outputId": "cddaa79b-ef48-4333-af1b-b54014e56c56"
      },
      "source": [
        "modelPath = 'drive/My Drive/Colab Notebooks/LSTM_models/epoch16'\n",
        "_test(modelPath)"
      ],
      "execution_count": 19,
      "outputs": [
        {
          "output_type": "stream",
          "text": [
            "<start>中年に中年たたたたたたたたたたたたたたたたたたたた\n"
          ],
          "name": "stdout"
        }
      ]
    }
  ]
}