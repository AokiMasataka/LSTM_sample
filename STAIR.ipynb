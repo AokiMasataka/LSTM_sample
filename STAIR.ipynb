{
  "nbformat": 4,
  "nbformat_minor": 0,
  "metadata": {
    "colab": {
      "name": "STAIR.ipynb",
      "provenance": [],
      "collapsed_sections": [],
      "mount_file_id": "1hpNM1Pzfhg8xUv6BCn-vWc1D1I6VkIqb",
      "authorship_tag": "ABX9TyP9fblLD/q+qL3alTBEqgzG",
      "include_colab_link": true
    },
    "kernelspec": {
      "name": "python3",
      "display_name": "Python 3"
    },
    "accelerator": "GPU"
  },
  "cells": [
    {
      "cell_type": "markdown",
      "metadata": {
        "id": "view-in-github",
        "colab_type": "text"
      },
      "source": [
        "<a href=\"https://colab.research.google.com/github/AokiMasataka/LSTM_sample/blob/master/STAIR.ipynb\" target=\"_parent\"><img src=\"https://colab.research.google.com/assets/colab-badge.svg\" alt=\"Open In Colab\"/></a>"
      ]
    },
    {
      "cell_type": "code",
      "metadata": {
        "id": "tzLQdUVbsJuY",
        "colab_type": "code",
        "colab": {}
      },
      "source": [
        "!apt install aptitude\n",
        "!aptitude install mecab libmecab-dev mecab-ipadic-utf8 git make curl xz-utils file -y\n",
        "!pip install mecab-python3==0.7"
      ],
      "execution_count": null,
      "outputs": []
    },
    {
      "cell_type": "code",
      "metadata": {
        "id": "N6IVBwsXCj-n",
        "colab_type": "code",
        "colab": {}
      },
      "source": [
        "import torch\n",
        "from torch import nn, optim\n",
        "from torch.nn.utils.rnn import pad_sequence\n",
        "import torch.nn.functional as F\n",
        "from torchvision import models\n",
        "import numpy as np\n",
        "import json\n",
        "import MeCab\n",
        "from PIL import Image\n",
        "import requests\n",
        "from io import BytesIO\n",
        "\n",
        "tagger = MeCab.Tagger(\"-Owakati\")\n",
        "def inverse_dict(d):\n",
        "    return {v:int(k) for k,v in d.items()}\n",
        "\n",
        "json_open = open('drive/My Drive/Colab Notebooks/stair_captions/stair_captions_train.json', 'r', encoding=\"utf-8\")\n",
        "stairCaptions = json.load(json_open)\n",
        "\n",
        "json_open = open('drive/My Drive/Colab Notebooks/stair_captions/words.json', 'r', encoding=\"utf-8\")\n",
        "index2word = json.load(json_open)\n",
        "word2index = inverse_dict(index2word)\n",
        "\n",
        "VOCAB_SIZE = len(word2index) # length is 29931\n",
        "EMBEDDING_DIM = 256\n",
        "MAXMUM_WORDS = 20\n",
        "BATCH_SIZE = 2\n",
        "device = torch.device('cuda' if torch.cuda.is_available() else 'cpu')\n",
        "epochs = 100\n"
      ],
      "execution_count": 1,
      "outputs": []
    },
    {
      "cell_type": "code",
      "metadata": {
        "id": "9s_msP4U1gHD",
        "colab_type": "code",
        "colab": {}
      },
      "source": [
        "def sentence2index(sentence, pad=True):\n",
        "    sentence = tagger.parse(sentence)\n",
        "    wakati = list(sentence.split(\" \"))\n",
        "    wakati.insert(0, '<start>')\n",
        "    wakati[len(wakati) - 1] = '<end>'\n",
        "    if not pad:\n",
        "      return torch.tensor([word2index[w] for w in wakati], dtype=torch.long)\n",
        "    else:\n",
        "      index = torch.tensor([word2index[w] for w in wakati])\n",
        "      if MAXMUM_WORDS < index.shape[0]:\n",
        "       return index[:MAXMUM_WORDS]\n",
        "      padding = torch.zeros(MAXMUM_WORDS - index.shape[0])\n",
        "      return torch.cat((index, padding), 0).to(torch.long)\n",
        "\n",
        "def index2sentence(ndarray):\n",
        "  sentence = ''\n",
        "  for index in ndarray:\n",
        "    sentence += index2word[str(index)]\n",
        "  return sentence"
      ],
      "execution_count": 2,
      "outputs": []
    },
    {
      "cell_type": "code",
      "metadata": {
        "id": "XuzxzoYq8IqM",
        "colab_type": "code",
        "colab": {}
      },
      "source": [
        "def getImg(url, toTensor=True):\n",
        "  response = requests.get(url)\n",
        "  img = np.array(Image.open(BytesIO(response.content)).convert('RGB')) / 255\n",
        "  img = np.transpose(img[np.newaxis], (0, 3, 1, 2))\n",
        "\n",
        "  if not toTensor:\n",
        "    return img\n",
        "  else:\n",
        "    return torch.tensor(img, dtype=torch.float32)"
      ],
      "execution_count": 8,
      "outputs": []
    },
    {
      "cell_type": "code",
      "metadata": {
        "id": "7ncEUPRDOW9i",
        "colab_type": "code",
        "colab": {}
      },
      "source": [
        "class Encoder(nn.Module):\n",
        "    def __init__(self):\n",
        "        super(Encoder, self).__init__()\n",
        "        vgg = models.vgg16(pretrained=True)\n",
        "        self.features = nn.Sequential(*list(vgg.features)[:31]).eval().to(device)\n",
        "        for param in self.features.parameters():\n",
        "            param.requires_grad = False\n",
        "        self.GAP = (vgg.avgpool).to(device)\n",
        "        self.classifier = nn.Sequential(*list(vgg.classifier)[:1]).eval().to(device)\n",
        "        for param in self.classifier.parameters():\n",
        "            param.requires_grad = False\n",
        "        self.mean = torch.nn.Parameter(torch.tensor([0.485, 0.456, 0.406]).view(1, 3, 1, 1), requires_grad=False).to(device)\n",
        "        self.std = torch.nn.Parameter(torch.tensor([0.229, 0.224, 0.225]).view(1, 3, 1, 1), requires_grad=False).to(device)\n",
        "\n",
        "    def forward(self, image):\n",
        "        image = (image - self.mean) / self.std\n",
        "        x = self.features(image)\n",
        "        x = self.GAP(x)\n",
        "        x = x.reshape(x.shape[0], -1)\n",
        "        x = self.classifier(x) # output size(batchSize, 4096)\n",
        "        return x"
      ],
      "execution_count": 7,
      "outputs": []
    },
    {
      "cell_type": "code",
      "metadata": {
        "id": "xCrQSbu1KkTk",
        "colab_type": "code",
        "colab": {
          "base_uri": "https://localhost:8080/",
          "height": 236
        },
        "outputId": "d9949acf-d45e-49b9-c477-adba0004a544"
      },
      "source": [
        "class Decoder(nn.Module):\n",
        "    def __init__(self, cuda=True, vocabSize=VOCAB_SIZE, embeddingDim=EMBEDDING_DIM, hiddenDim=1024):\n",
        "        super(Decoder, self).__init__()\n",
        "        self.hiddenDim = hiddenDim\n",
        "        self.word_embeddings = nn.Embedding(vocabSize, embeddingDim)\n",
        "        self.lstm = nn.LSTM(input_size=embeddingDim, hidden_size=hiddenDim, batch_first=True, num_layers=1)\n",
        "        self.liner = nn.Linear(hiddenDim + 4096, vocabSize)\n",
        "        self.hidden = self.init_hidden()\n",
        "        self.cuda = cuda\n",
        "    \n",
        "    def init_hidden(self):\n",
        "      if cuda:\n",
        "        return (torch.zeros(1, BATCH_SIZE, self.hiddenDim).to(device),\n",
        "                torch.zeros(1, BATCH_SIZE, self.hiddenDim).to(device))\n",
        "      else:\n",
        "        return (torch.zeros(1, BATCH_SIZE, self.hiddenDim),\n",
        "                torch.zeros(1, BATCH_SIZE, self.hiddenDim))\n",
        "\n",
        "    def forward(self, encodedImage, sentence):\n",
        "        embeds = self.word_embeddings(sentence)\n",
        "        embeds = attention(embeds, embeds, embeds)\n",
        "        output, self.hidden = self.lstm(embeds, self.hidden)\n",
        "        repeatedEncodedImage = encodedImage.repeat(1, sentence.shape[1]).view(-1, sentence.shape[1], 4096)\n",
        "        output = torch.cat((output, repeatedEncodedImage), axis=-1)\n",
        "        output = self.liner(output)\n",
        "        return output\n",
        "\n",
        "def attention(q, k, v):\n",
        "    scores = torch.matmul(q, k.transpose(-2, -1))\n",
        "    scores = torch.nn.functional.softmax(scores, dim=-1)\n",
        "    output = torch.matmul(scores, v)\n",
        "    return output"
      ],
      "execution_count": 1,
      "outputs": [
        {
          "output_type": "error",
          "ename": "NameError",
          "evalue": "ignored",
          "traceback": [
            "\u001b[0;31m---------------------------------------------------------------------------\u001b[0m",
            "\u001b[0;31mNameError\u001b[0m                                 Traceback (most recent call last)",
            "\u001b[0;32m<ipython-input-1-0a6e511c603e>\u001b[0m in \u001b[0;36m<module>\u001b[0;34m()\u001b[0m\n\u001b[0;32m----> 1\u001b[0;31m \u001b[0;32mclass\u001b[0m \u001b[0mDecoder\u001b[0m\u001b[0;34m(\u001b[0m\u001b[0mnn\u001b[0m\u001b[0;34m.\u001b[0m\u001b[0mModule\u001b[0m\u001b[0;34m)\u001b[0m\u001b[0;34m:\u001b[0m\u001b[0;34m\u001b[0m\u001b[0;34m\u001b[0m\u001b[0m\n\u001b[0m\u001b[1;32m      2\u001b[0m     \u001b[0;32mdef\u001b[0m \u001b[0m__init__\u001b[0m\u001b[0;34m(\u001b[0m\u001b[0mself\u001b[0m\u001b[0;34m,\u001b[0m \u001b[0mcuda\u001b[0m\u001b[0;34m=\u001b[0m\u001b[0;32mTrue\u001b[0m\u001b[0;34m,\u001b[0m \u001b[0mvocabSize\u001b[0m\u001b[0;34m=\u001b[0m\u001b[0mVOCAB_SIZE\u001b[0m\u001b[0;34m,\u001b[0m \u001b[0membeddingDim\u001b[0m\u001b[0;34m=\u001b[0m\u001b[0mEMBEDDING_DIM\u001b[0m\u001b[0;34m,\u001b[0m \u001b[0mhiddenDim\u001b[0m\u001b[0;34m=\u001b[0m\u001b[0;36m1024\u001b[0m\u001b[0;34m)\u001b[0m\u001b[0;34m:\u001b[0m\u001b[0;34m\u001b[0m\u001b[0;34m\u001b[0m\u001b[0m\n\u001b[1;32m      3\u001b[0m         \u001b[0msuper\u001b[0m\u001b[0;34m(\u001b[0m\u001b[0mDecoder\u001b[0m\u001b[0;34m,\u001b[0m \u001b[0mself\u001b[0m\u001b[0;34m)\u001b[0m\u001b[0;34m.\u001b[0m\u001b[0m__init__\u001b[0m\u001b[0;34m(\u001b[0m\u001b[0;34m)\u001b[0m\u001b[0;34m\u001b[0m\u001b[0;34m\u001b[0m\u001b[0m\n\u001b[1;32m      4\u001b[0m         \u001b[0mself\u001b[0m\u001b[0;34m.\u001b[0m\u001b[0mhiddenDim\u001b[0m \u001b[0;34m=\u001b[0m \u001b[0mhiddenDim\u001b[0m\u001b[0;34m\u001b[0m\u001b[0;34m\u001b[0m\u001b[0m\n\u001b[1;32m      5\u001b[0m         \u001b[0mself\u001b[0m\u001b[0;34m.\u001b[0m\u001b[0mword_embeddings\u001b[0m \u001b[0;34m=\u001b[0m \u001b[0mnn\u001b[0m\u001b[0;34m.\u001b[0m\u001b[0mEmbedding\u001b[0m\u001b[0;34m(\u001b[0m\u001b[0mvocabSize\u001b[0m\u001b[0;34m,\u001b[0m \u001b[0membeddingDim\u001b[0m\u001b[0;34m)\u001b[0m\u001b[0;34m\u001b[0m\u001b[0;34m\u001b[0m\u001b[0m\n",
            "\u001b[0;31mNameError\u001b[0m: name 'nn' is not defined"
          ]
        }
      ]
    },
    {
      "cell_type": "code",
      "metadata": {
        "id": "jwcg-tS2PCb1",
        "colab_type": "code",
        "colab": {
          "base_uri": "https://localhost:8080/",
          "height": 34
        },
        "outputId": "2cb5286e-0eaf-4e08-962f-d0c8dc680e09"
      },
      "source": [
        "x = torch.zeros((BATCH_SIZE, MAXMUM_WORDS), dtype=torch.long)\n",
        "img = torch.rand((BATCH_SIZE, 4096))\n",
        "\n",
        "model = Decoder()\n",
        "model.eval()\n",
        "x = model(img, x)\n",
        "print(x.shape)"
      ],
      "execution_count": 20,
      "outputs": [
        {
          "output_type": "stream",
          "text": [
            "torch.Size([1, 24, 29931])\n"
          ],
          "name": "stdout"
        }
      ]
    },
    {
      "cell_type": "code",
      "metadata": {
        "id": "n6bQz99SGidD",
        "colab_type": "code",
        "colab": {}
      },
      "source": [
        "def generateData(sentence, image):\n",
        "    sentence = sentence.view(1, -1)\n",
        "    pad = torch.zeros((1, MAXMUM_WORDS), dtype=torch.long)\n",
        "    image = image.view(1, -1)\n",
        "    data_x = torch.cat((sentence[0, :1], pad[0, 1:]), 0).unsqueeze(0)\n",
        "    data_y = sentence[0, 1].view(1)\n",
        "    for i in range(2, MAXMUM_WORDS):\n",
        "        data_x = torch.cat((data_x, torch.cat((sentence[0, :i], pad[0, i:]), 0).unsqueeze(0)), 0)\n",
        "        data_y = torch.cat((data_y, sentence[0, i].view(1)), 0) \n",
        "    image = image.repeat(MAXMUM_WORDS - 1, 1)\n",
        "    return data_x, data_y, image"
      ],
      "execution_count": 4,
      "outputs": []
    },
    {
      "cell_type": "code",
      "metadata": {
        "id": "FiYKTGHiedl0",
        "colab_type": "code",
        "colab": {}
      },
      "source": [
        "def train(decoder, e=None):\n",
        "  json_open = open('drive/My Drive/Colab Notebooks/stair_captions/index2image.json', 'r', encoding=\"utf-8\")\n",
        "  id2index = json.load(json_open)\n",
        "\n",
        "  encordedArrays = np.load('drive/My Drive/Colab Notebooks/stair_captions/encorded_ndarray.npy')\n",
        "  encordedTensors = torch.tensor(encordedArrays, dtype=torch.float)\n",
        "  del encordedArrays\n",
        "\n",
        "  if e:\n",
        "    modelPath = 'drive/My Drive/Colab Notebooks/LSTM_models/epoch' + str(e)\n",
        "    decoder.load_state_dict(torch.load(modelPath))\n",
        "  else:\n",
        "    e = 0\n",
        "\n",
        "  decoder.train().to(device)\n",
        "  optimizer = torch.optim.Adam(decoder.parameters(), lr=0.05)\n",
        "  CEL = nn.CrossEntropyLoss()\n",
        "\n",
        "  \n",
        "  pad = torch.tensor([1])\n",
        "  for epoch in range(1, epochs):\n",
        "    print(\"epoch :\", epoch + e)\n",
        "    iterate = 0\n",
        "    batch = 0\n",
        "    sentence = []\n",
        "    inputFeature = torch.empty((1, 4096))\n",
        "    for caption in stairCaptions['annotations'][:20000]:\n",
        "      try:\n",
        "        idx = id2index[str(caption['image_id'])]\n",
        "      except:\n",
        "        continue\n",
        "\n",
        "      sentence.append(sentence2index(caption['caption'], False))\n",
        "      inputFeature = torch.cat((inputFeature, encordedTensors[idx].unsqueeze(0)), dim=0)\n",
        "      batch += 1\n",
        "\n",
        "      if batch == BATCH_SIZE:\n",
        "        data = pad_sequence(sentence, batch_first=True)\n",
        "        inputs = data[:, :-1].to(device)\n",
        "        targets = data[:, 1:].to(device)\n",
        "        inputFeature = inputFeature[1:].to(device)\n",
        "        decoder.hidden = decoder.init_hidden()  # LSTM初期化\n",
        "        output = decoder(inputFeature, inputs)\n",
        "        loss = CEL(output.view(-1, VOCAB_SIZE), targets.view(-1))\n",
        "        optimizer.zero_grad()\n",
        "        loss.backward()\n",
        "        optimizer.step()\n",
        "\n",
        "        sentence = []\n",
        "        inputFeature = torch.empty((1, 4096))\n",
        "        batch = 0\n",
        "\n",
        "      iterate += 1\n",
        "      if (iterate + 1) % 1000 == 0:\n",
        "        print(\"loss :\", loss.item())\n",
        "\n",
        "    if epoch % 2:\n",
        "      model_path = 'drive/My Drive/Colab Notebooks/LSTM_models/epoch' + str(epoch + e)\n",
        "      torch.save(decoder.state_dict(), model_path)"
      ],
      "execution_count": 4,
      "outputs": []
    },
    {
      "cell_type": "code",
      "metadata": {
        "id": "-roXlUMTeXm5",
        "colab_type": "code",
        "colab": {}
      },
      "source": [
        "decoder = Decoder()\n",
        "train(decoder)"
      ],
      "execution_count": null,
      "outputs": []
    },
    {
      "cell_type": "code",
      "metadata": {
        "id": "pDhuelSvzQ8i",
        "colab_type": "code",
        "colab": {}
      },
      "source": [
        "def test(modelPath):\n",
        "  BATCH_SIZE = 1\n",
        "  json_open = open('drive/My Drive/Colab Notebooks/stair_captions/stair_captions_train.json', 'r', encoding=\"utf-8\")\n",
        "  captions = json.load(json_open)\n",
        "\n",
        "  json_open = open('drive/My Drive/Colab Notebooks/stair_captions/index2image.json', 'r', encoding=\"utf-8\")\n",
        "  id2index = json.load(json_open)\n",
        "\n",
        "  encordedArrays = np.load('drive/My Drive/Colab Notebooks/stair_captions/encorded_ndarray.npy')\n",
        "  encordedTensors = torch.tensor(encordedArrays, dtype=torch.float)\n",
        "  del encordedArrays\n",
        "\n",
        "  decoder = Decoder(False)\n",
        "  decoder.load_state_dict(torch.load(modelPath))\n",
        "  decoder.cpu()\n",
        "  encoder = Encoder().to(device)\n",
        "\n",
        "  rand = np.random.randint(0, 20000)\n",
        "  for image in captions['images'][rand:rand+10]:\n",
        "    try:\n",
        "      tensorImg = getImg(image['flickr_url'])\n",
        "    except:\n",
        "      continue\n",
        "    \n",
        "    tensorImg = tensorImg.to(device)\n",
        "    encordedimg = encoder(tensorImg)\n",
        "    encordedImg = encordedimg.cpu().view(1, -1)\n",
        "\n",
        "    decoder.init_hidden()\n",
        "    sentence = torch.zeros((1), dtype=torch.long)\n",
        "    sentence[0] = 1\n",
        "    for i in range(1, MAXMUM_WORDS):\n",
        "      decoder.init_hidden()\n",
        "      output = decoder(encordedImg, sentence.view(1, -1))\n",
        "      number = torch.argmax(output[0, -1]).view(1)\n",
        "      sentence = torch.cat((sentence, number.view(1)), dim=0)\n",
        "      if number.item() == 2:\n",
        "        break\n",
        "\n",
        "    \n",
        "    print(image['flickr_url'])\n",
        "    sentence = sentence.detach().numpy().reshape(-1)\n",
        "    print(index2sentence(sentence))"
      ],
      "execution_count": 9,
      "outputs": []
    },
    {
      "cell_type": "code",
      "metadata": {
        "id": "aSvm-tEQnmxm",
        "colab_type": "code",
        "colab": {
          "base_uri": "https://localhost:8080/",
          "height": 377
        },
        "outputId": "3032a186-7640-4b3e-f6c3-13c5a541ff19"
      },
      "source": [
        "modelPath = 'drive/My Drive/Colab Notebooks/LSTM_models/epoch3'\n",
        "test(modelPath)"
      ],
      "execution_count": 10,
      "outputs": [
        {
          "output_type": "stream",
          "text": [
            "http://farm6.staticflickr.com/5447/9513770553_f8549974e3_z.jpg\n",
            "<start>車車車車車車車車車車車車車車車車車車車\n",
            "http://farm3.staticflickr.com/2564/5825169236_a531bbf559_z.jpg\n",
            "<start>女の子女の子女の子女の子女の子女の子女の子女の子女の子女の子女の子女の子女の子女の子女の子女の子女の子女の子女の子\n",
            "http://farm2.staticflickr.com/1332/1437349099_2241c31c30_z.jpg\n",
            "<start>シルバーシルバーシルバーシルバーシルバーシルバーシルバーシルバーシルバーシルバーシルバーシルバーシルバーシルバーシルバーシルバーシルバーシルバーシルバー\n",
            "http://farm4.staticflickr.com/3666/9647891421_42123291f1_z.jpg\n",
            "<start>濡れを濡れている<end>\n",
            "http://farm8.staticflickr.com/7356/9651126370_c06b2e9710_z.jpg\n",
            "<start>機関機関に機関ている<end>\n",
            "http://farm8.staticflickr.com/7097/7168601503_1c98a9aa45_z.jpg\n",
            "<start>まわりまわりまわりまわりまわりまわりまわりまわりまわりまわりまわりまわりまわりまわりまわりまわりまわりまわりまわり\n",
            "http://farm3.staticflickr.com/2695/4314565761_a90a0d35fe_z.jpg\n",
            "<start>濡れに濡れに濡れに濡れに濡れに濡れに濡れに濡れに濡れに濡れ\n",
            "http://farm4.staticflickr.com/3194/2951542925_6fd8906a34_z.jpg\n",
            "<start>シルバーシルバーシルバーシルバーシルバーシルバーシルバーシルバーシルバーシルバーシルバーシルバーシルバーシルバーシルバーシルバーシルバーシルバーシルバー\n",
            "http://farm3.staticflickr.com/2667/3761726052_8c97db702b_z.jpg\n",
            "<start>シルバーシルバーシルバーシルバーシルバーシルバーシルバーシルバーシルバーシルバーシルバーシルバーシルバーシルバーシルバーシルバーシルバーシルバーシルバー\n",
            "http://farm4.staticflickr.com/3255/3189341510_27b2c354d0_z.jpg\n",
            "<start>シルバーシルバーシルバーシルバーシルバーシルバーシルバーシルバーシルバーシルバーシルバーシルバーシルバーシルバーシルバーシルバーシルバーシルバーシルバー\n"
          ],
          "name": "stdout"
        }
      ]
    }
  ]
}