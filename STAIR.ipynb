{
  "nbformat": 4,
  "nbformat_minor": 0,
  "metadata": {
    "colab": {
      "name": "STAIR.ipynb",
      "provenance": [],
      "collapsed_sections": [],
      "mount_file_id": "1hpNM1Pzfhg8xUv6BCn-vWc1D1I6VkIqb",
      "authorship_tag": "ABX9TyOnsmP2vZHr79Mg4e/EmZQC",
      "include_colab_link": true
    },
    "kernelspec": {
      "name": "python3",
      "display_name": "Python 3"
    },
    "accelerator": "GPU"
  },
  "cells": [
    {
      "cell_type": "markdown",
      "metadata": {
        "id": "view-in-github",
        "colab_type": "text"
      },
      "source": [
        "<a href=\"https://colab.research.google.com/github/AokiMasataka/LSTM_sample/blob/cat-feature-and-sentence/STAIR.ipynb\" target=\"_parent\"><img src=\"https://colab.research.google.com/assets/colab-badge.svg\" alt=\"Open In Colab\"/></a>"
      ]
    },
    {
      "cell_type": "code",
      "metadata": {
        "id": "tzLQdUVbsJuY"
      },
      "source": [
        "!apt install aptitude\n",
        "!aptitude install mecab libmecab-dev mecab-ipadic-utf8 git make curl xz-utils file -y\n",
        "!pip install mecab-python3==0.7"
      ],
      "execution_count": null,
      "outputs": []
    },
    {
      "cell_type": "code",
      "metadata": {
        "id": "N6IVBwsXCj-n"
      },
      "source": [
        "import torch\n",
        "from torch import nn, optim\n",
        "from torch.nn.utils.rnn import pad_sequence, pack_padded_sequence\n",
        "import torch.nn.functional as F\n",
        "from torchvision import models\n",
        "import numpy as np\n",
        "import json\n",
        "import MeCab\n",
        "\n",
        "\n",
        "tagger = MeCab.Tagger(\"-Owakati\")\n",
        "\n",
        "def inverse_dict(d):\n",
        "    return {v:int(k) for k,v in d.items()}\n",
        "\n",
        "json_open = open('drive/My Drive/Colab Notebooks/stair_captions/stair_captions_train.json', 'r', encoding=\"utf-8\")\n",
        "stairCaptions = json.load(json_open)\n",
        "\n",
        "json_open = open('drive/My Drive/Colab Notebooks/stair_captions/id2index_v2.json', 'r', encoding=\"utf-8\")\n",
        "id2index = json.load(json_open)\n",
        "\n",
        "json_open = open('drive/My Drive/Colab Notebooks/stair_captions/words.json', 'r', encoding=\"utf-8\")\n",
        "index2word = json.load(json_open)\n",
        "word2index = inverse_dict(index2word)\n",
        "\n",
        "VOCAB_SIZE = len(word2index) # length is 29931\n",
        "EMBEDDING_DIM = 256\n",
        "MAXMUM_WORDS = 24\n",
        "BATCH_SIZE = 32\n",
        "epochs = 100\n",
        "device = torch.device('cuda' if torch.cuda.is_available() else 'cpu')"
      ],
      "execution_count": 2,
      "outputs": []
    },
    {
      "cell_type": "code",
      "metadata": {
        "id": "9s_msP4U1gHD"
      },
      "source": [
        "def sentence2index(sentence, pad=True):\n",
        "    sentence = tagger.parse(sentence)\n",
        "    wakati = list(sentence.split(\" \"))\n",
        "    wakati.insert(0, '<start>')\n",
        "    wakati[len(wakati) - 1] = '<end>'\n",
        "    if not pad:\n",
        "      return torch.tensor([word2index[w] for w in wakati], dtype=torch.long)\n",
        "    else:\n",
        "      index = torch.tensor([word2index[w] for w in wakati])\n",
        "      if MAXMUM_WORDS < index.shape[0]:\n",
        "       return index[:MAXMUM_WORDS]\n",
        "      padding = torch.zeros(MAXMUM_WORDS - index.shape[0])\n",
        "      return torch.cat((index, padding), 0).to(torch.long)\n",
        "\n",
        "def index2sentence(ndarray):\n",
        "  sentence = ''\n",
        "  for index in ndarray:\n",
        "    sentence += index2word[str(index)]\n",
        "  return sentence"
      ],
      "execution_count": 3,
      "outputs": []
    },
    {
      "cell_type": "code",
      "metadata": {
        "id": "XuzxzoYq8IqM"
      },
      "source": [
        "from PIL import Image\n",
        "import requests\n",
        "from io import BytesIO\n",
        "\n",
        "def getImg(url, toTensor=True):\n",
        "  response = requests.get(url)\n",
        "  img = np.array(Image.open(BytesIO(response.content)).convert('RGB')) / 255\n",
        "  img = np.transpose(img[np.newaxis], (0, 3, 1, 2))\n",
        "\n",
        "  if toTensor:\n",
        "    return torch.tensor(img, dtype=torch.float32)\n",
        "  else:\n",
        "    return img"
      ],
      "execution_count": null,
      "outputs": []
    },
    {
      "cell_type": "code",
      "metadata": {
        "id": "7ncEUPRDOW9i"
      },
      "source": [
        "class Encoder(nn.Module):\n",
        "    def __init__(self):\n",
        "        super(Encoder, self).__init__()\n",
        "        vgg = models.vgg16(pretrained=True)\n",
        "        self.features = nn.Sequential(*list(vgg.features)[:31]).eval().to(device)\n",
        "        for param in self.features.parameters():\n",
        "            param.requires_grad = False\n",
        "        self.GAP = (vgg.avgpool).to(device)\n",
        "        self.classifier = nn.Sequential(*list(vgg.classifier)[:1]).eval().to(device)\n",
        "        for param in self.classifier.parameters():\n",
        "            param.requires_grad = False\n",
        "        self.mean = torch.nn.Parameter(torch.tensor([0.485, 0.456, 0.406]).view(1, 3, 1, 1), requires_grad=False).to(device)\n",
        "        self.std = torch.nn.Parameter(torch.tensor([0.229, 0.224, 0.225]).view(1, 3, 1, 1), requires_grad=False).to(device)\n",
        "\n",
        "    def forward(self, image):\n",
        "        image = (image - self.mean) / self.std\n",
        "        x = self.features(image)\n",
        "        x = self.GAP(x)\n",
        "        x = x.reshape(x.shape[0], -1)\n",
        "        x = self.classifier(x) # output shape(batchSize, 4096)\n",
        "        return x"
      ],
      "execution_count": null,
      "outputs": []
    },
    {
      "cell_type": "code",
      "metadata": {
        "id": "xCrQSbu1KkTk"
      },
      "source": [
        "class Decoder(nn.Module):\n",
        "    def __init__(self, vocabSize=VOCAB_SIZE, embeddingDim=EMBEDDING_DIM, hiddenDim=512):\n",
        "        super(Decoder, self).__init__()\n",
        "        self.hiddenDim = hiddenDim\n",
        "        self.word_embeddings = nn.Embedding(vocabSize, embeddingDim)\n",
        "        self.lstm = nn.LSTM(input_size=embeddingDim, hidden_size=hiddenDim, batch_first=True, num_layers=1)\n",
        "        self.decod = nn.Linear(hiddenDim + 4096, vocabSize)\n",
        "\n",
        "    def forward(self, feature, sentence, lengths):\n",
        "        embeds = self.word_embeddings(sentence)\n",
        "        embeds = attention(embeds, embeds, embeds)\n",
        "        feature = feature.repeat(1, sentence.shape[1]).view(sentence.shape[0], -1, 4096)\n",
        "        output, self.hidden = self.lstm(embeds)\n",
        "        output = torch.cat((feature, output), dim=2)\n",
        "        output = self.decod(output)\n",
        "        return output\n",
        "\n",
        "    def caption(self, feature, states=None):\n",
        "        sampled_ids = []\n",
        "        inputs = self.word_embeddings(torch.ones(1, dtype=torch.long).view(1, 1))\n",
        "        feature = feature.unsqueeze(1)\n",
        "        \n",
        "        for i in range(MAXMUM_WORDS):\n",
        "            hiddens, states = self.lstm(inputs, states)\n",
        "            hiddens = torch.cat((feature, hiddens), dim=2)\n",
        "            outputs = self.decod(hiddens.squeeze(1))\n",
        "            _, predicted = outputs.max(1)\n",
        "            sampled_ids.append(predicted)\n",
        "            inputs = self.word_embeddings(predicted.view(1, -1))\n",
        "            if predicted.item() == 2:\n",
        "              break                        \n",
        "        sampled_ids = torch.stack(sampled_ids, 1)\n",
        "        return sampled_ids\n",
        "\n",
        "def attention(q, k, v):\n",
        "    scores = torch.matmul(q, k.transpose(-2, -1))\n",
        "    scores = torch.nn.functional.softmax(scores, dim=-1)\n",
        "    output = torch.matmul(scores, v)\n",
        "    return output"
      ],
      "execution_count": 4,
      "outputs": []
    },
    {
      "cell_type": "code",
      "metadata": {
        "id": "FiYKTGHiedl0"
      },
      "source": [
        "def train(decoder, e=None):\n",
        "  encordedArrays = np.load('drive/My Drive/Colab Notebooks/stair_captions/encorded_ndarray.npy')\n",
        "  encordedTensors = torch.tensor(encordedArrays, dtype=torch.float)\n",
        "  del encordedArrays\n",
        "\n",
        "  if e:\n",
        "    modelPath = 'drive/My Drive/Colab Notebooks/LSTM_models/epoch' + str(e)\n",
        "    decoder.load_state_dict(torch.load(modelPath))\n",
        "  else:\n",
        "    e = 0\n",
        "\n",
        "  decoder.train().to(device)\n",
        "  optimizer = torch.optim.Adam(decoder.parameters(), lr=0.005)\n",
        "  CEL = nn.CrossEntropyLoss()\n",
        "\n",
        "  \n",
        "  pad = torch.tensor([1])\n",
        "  for epoch in range(1, epochs):\n",
        "    print(\"epoch :\", epoch + e)\n",
        "    iterate = 0\n",
        "    losses = 0\n",
        "    sentence = []\n",
        "    lengths = []\n",
        "    inputFeature = torch.empty((1, 4096))\n",
        "    for caption in stairCaptions['annotations']:\n",
        "      try:\n",
        "        idx = id2index[str(caption['image_id'])]\n",
        "      except:\n",
        "        continue\n",
        "\n",
        "      lengths.append(sentence2index(caption['caption'], False).size(0))\n",
        "      sentence.append(sentence2index(caption['caption'], False))\n",
        "      inputFeature = torch.cat((inputFeature, encordedTensors[idx].unsqueeze(0)), dim=0)\n",
        "\n",
        "      if len(lengths) == BATCH_SIZE:\n",
        "        length = torch.tensor(lengths, dtype=torch.long).to(device)\n",
        "        data = pad_sequence(sentence, batch_first=True)\n",
        "        inputs = data[:, :-1].to(device)\n",
        "        targets = data[:, 1:].to(device)\n",
        "        inputFeature = inputFeature[1:].to(device)\n",
        "\n",
        "        output = decoder(inputFeature, inputs, length)\n",
        "        loss = CEL(output.view(-1, VOCAB_SIZE), targets.view(-1))\n",
        "        optimizer.zero_grad()\n",
        "        loss.backward()\n",
        "        optimizer.step()\n",
        "\n",
        "        sentence.clear()\n",
        "        lengths.clear()\n",
        "        inputFeature = torch.empty((1, 4096))\n",
        "\n",
        "        losses += loss.item()\n",
        "\n",
        "      iterate += 1\n",
        "      if (iterate + 1) % 10000 == 0:\n",
        "        print(\"loss :\", losses / 10000)\n",
        "        losses = 0\n",
        "\n",
        "    if (epoch+1) % 2:\n",
        "      model_path = 'drive/My Drive/Colab Notebooks/LSTM_models/epoch' + str(epoch + e)\n",
        "      torch.save(decoder.state_dict(), model_path)"
      ],
      "execution_count": 5,
      "outputs": []
    },
    {
      "cell_type": "code",
      "metadata": {
        "id": "-roXlUMTeXm5",
        "outputId": "0fbb9101-5ae5-4e6c-a2da-a770a5784e7a",
        "colab": {
          "base_uri": "https://localhost:8080/",
          "height": 170
        }
      },
      "source": [
        "decoder = Decoder()\n",
        "train(decoder)"
      ],
      "execution_count": null,
      "outputs": [
        {
          "output_type": "stream",
          "text": [
            "loss : 1.4225761444091798\n",
            "loss : 1.4472218736648559\n",
            "loss : 1.4223279064178467\n",
            "loss : 1.4548809879302977\n",
            "loss : 1.6147211206436156\n",
            "loss : 1.5298406255722046\n",
            "loss : 1.4144005081176758\n",
            "loss : 1.4861709756851196\n",
            "loss : 1.4933792249679565\n"
          ],
          "name": "stdout"
        }
      ]
    },
    {
      "cell_type": "code",
      "metadata": {
        "id": "pDhuelSvzQ8i"
      },
      "source": [
        "def val_test(modelPath):\n",
        "  BATCH_SIZE = 1\n",
        "\n",
        "  json_open = open('drive/My Drive/Colab Notebooks/stair_captions/stair_captions_val.json', 'r', encoding=\"utf-8\")\n",
        "  stairCaptions_val = json.load(json_open)\n",
        " \n",
        "  decoder = Decoder()\n",
        "  decoder.load_state_dict(torch.load(modelPath))\n",
        "  decoder.cpu()\n",
        "  encoder = Encoder().to(device)\n",
        " \n",
        "  for i in range(10):\n",
        "    rand = np.random.randint(0, 20000)\n",
        "    image = stairCaptions_val['images'][rand]\n",
        "    try:\n",
        "      tensorImg = getImg(image['flickr_url'])\n",
        "    except:\n",
        "      continue\n",
        "    \n",
        "    tensorImg = tensorImg.to(device)\n",
        "    encordedImg = encoder(tensorImg)\n",
        "    encordedImg = encordedImg.cpu().view(1, -1)\n",
        "    sentence = decoder.caption(encordedImg)\n",
        " \n",
        "    print(image['flickr_url'])\n",
        "    sentence = sentence.detach().numpy().reshape(-1)\n",
        "    print(index2sentence(sentence), \" length :\", len(sentence))"
      ],
      "execution_count": null,
      "outputs": []
    },
    {
      "cell_type": "code",
      "metadata": {
        "id": "hHo1L2wJiLVz"
      },
      "source": [
        "def test(modelPath):\n",
        "  BATCH_SIZE = 1\n",
        "\n",
        "  encordedArrays = np.load('drive/My Drive/Colab Notebooks/stair_captions/encorded_ndarray.npy')\n",
        "  encordedTensors = torch.tensor(encordedArrays, dtype=torch.float)\n",
        "  del encordedArrays\n",
        "\n",
        "  decoder = Decoder()\n",
        "  decoder.load_state_dict(torch.load(modelPath))\n",
        "  decoder.cpu()\n",
        "\n",
        "  rand = np.random.randint(0, 19000)\n",
        "  for caption in stairCaptions['annotations'][rand:rand+20]:\n",
        "    try:\n",
        "      idx = id2index[str(caption['image_id'])]\n",
        "    except:\n",
        "      continue\n",
        "    \n",
        "    inputFeature = encordedTensors[idx].unsqueeze(0)\n",
        "    sentence = decoder.caption(inputFeature)\n",
        "\n",
        "    for image in stairCaptions['images']:\n",
        "      if caption['image_id'] == image['id']:\n",
        "        print(image['flickr_url'])\n",
        "        break\n",
        "    sentence = sentence.detach().numpy().reshape(-1)\n",
        "    print(index2sentence(sentence), \" length :\", len(sentence))"
      ],
      "execution_count": 8,
      "outputs": []
    },
    {
      "cell_type": "code",
      "metadata": {
        "id": "aSvm-tEQnmxm",
        "outputId": "c3c9a542-ab06-40b4-ac29-72517005485c",
        "colab": {
          "base_uri": "https://localhost:8080/",
          "height": 153
        }
      },
      "source": [
        "modelPath = 'drive/My Drive/Colab Notebooks/LSTM_models/epoch40'\n",
        "_test(modelPath)"
      ],
      "execution_count": 9,
      "outputs": [
        {
          "output_type": "stream",
          "text": [
            "http://farm6.staticflickr.com/5294/5483678464_5da175140e_z.jpg\n",
            "赤いユニフォームを着た女性がボールを打とうとしている<end>  length : 16\n",
            "http://farm4.staticflickr.com/3319/3278093803_d2029e02e2_z.jpg\n",
            "トレーのトレーのトレーにトレーたトレーがある<end>  length : 12\n",
            "http://farm7.staticflickr.com/6149/5960760081_d65e90243d_z.jpg\n",
            "芝生の上でシマウマがついている<end>  length : 10\n",
            "http://farm9.staticflickr.com/8544/8644704729_199b31d847_z.jpg\n",
            "バーコードを付けたバーコードを付けたバーコードを付けたバーコードを付けたバーコード<end>  length : 18\n"
          ],
          "name": "stdout"
        }
      ]
    }
  ]
}