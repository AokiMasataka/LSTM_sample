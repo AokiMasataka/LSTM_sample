{
  "nbformat": 4,
  "nbformat_minor": 0,
  "metadata": {
    "colab": {
      "name": "LSTM_sample.ipynb",
      "provenance": [],
      "authorship_tag": "ABX9TyOZOtLsL9iVsXdsQKkeglBg",
      "include_colab_link": true
    },
    "kernelspec": {
      "name": "python3",
      "display_name": "Python 3"
    }
  },
  "cells": [
    {
      "cell_type": "markdown",
      "metadata": {
        "id": "view-in-github",
        "colab_type": "text"
      },
      "source": [
        "<a href=\"https://colab.research.google.com/github/AokiMasataka/LSTM_sample/blob/fix_train/LSTM_sample.ipynb\" target=\"_parent\"><img src=\"https://colab.research.google.com/assets/colab-badge.svg\" alt=\"Open In Colab\"/></a>"
      ]
    },
    {
      "cell_type": "code",
      "metadata": {
        "id": "McFmGTRJRzb_",
        "colab_type": "code",
        "colab": {
          "base_uri": "https://localhost:8080/",
          "height": 122
        },
        "outputId": "42fecdd4-3c6d-4770-c044-ee2f4234b0e8"
      },
      "source": [
        "pip install -U torch torchvision"
      ],
      "execution_count": 19,
      "outputs": [
        {
          "output_type": "stream",
          "text": [
            "Requirement already up-to-date: torch in /usr/local/lib/python3.6/dist-packages (1.6.0+cu101)\n",
            "Requirement already up-to-date: torchvision in /usr/local/lib/python3.6/dist-packages (0.7.0+cu101)\n",
            "Requirement already satisfied, skipping upgrade: numpy in /usr/local/lib/python3.6/dist-packages (from torch) (1.18.5)\n",
            "Requirement already satisfied, skipping upgrade: future in /usr/local/lib/python3.6/dist-packages (from torch) (0.16.0)\n",
            "Requirement already satisfied, skipping upgrade: pillow>=4.1.1 in /usr/local/lib/python3.6/dist-packages (from torchvision) (7.0.0)\n"
          ],
          "name": "stdout"
        }
      ]
    },
    {
      "cell_type": "code",
      "metadata": {
        "id": "4uaZqHUeSe5S",
        "colab_type": "code",
        "colab": {}
      },
      "source": [
        "import torch\n",
        "from torch import nn, functional as F\n",
        "import numpy as np\n",
        "\n",
        "VOCAB_SIZE = 64\n",
        "EMBEDDING_DIM = 16\n",
        "HIDDEN_DIM = 64\n",
        "sequence = 5\n",
        "BATCH_SIZE = 1\n",
        "\n",
        "class Decoder(nn.Module):\n",
        "    def __init__(self):\n",
        "        super(Decoder, self).__init__()\n",
        "        self.word_embeddings = nn.Embedding(VOCAB_SIZE, EMBEDDING_DIM)\n",
        "        self.lstm = nn.LSTM(input_size=EMBEDDING_DIM, hidden_size=HIDDEN_DIM, batch_first=True, num_layers=1)\n",
        "        self.liner = nn.Linear(HIDDEN_DIM, VOCAB_SIZE)\n",
        "        self.hidden = self.init_hidden()\n",
        "    \n",
        "    def init_hidden(self):\n",
        "        return (torch.zeros(1, BATCH_SIZE, HIDDEN_DIM),\n",
        "                torch.zeros(1, BATCH_SIZE, HIDDEN_DIM))\n",
        "\n",
        "    def forward(self, sentence):\n",
        "        embeds = self.word_embeddings(sentence)\n",
        "        embeds = embeds.view(BATCH_SIZE, -1, EMBEDDING_DIM)\n",
        "        output, self.hidden = self.lstm(embeds, self.hidden)\n",
        "        output = output.view(-1, HIDDEN_DIM)\n",
        "        output = self.liner(output)\n",
        "        return output"
      ],
      "execution_count": 37,
      "outputs": []
    },
    {
      "cell_type": "code",
      "metadata": {
        "id": "uKKR0t2LXa3z",
        "colab_type": "code",
        "colab": {}
      },
      "source": [
        "def getData(batch_size=BATCH_SIZE):\n",
        "  tensor = torch.zeros(sequence).reshape(1, -1)\n",
        "  for i in range(batch_size):\n",
        "    numbers = []\n",
        "    num = np.random.randint(0, VOCAB_SIZE - sequence - 1)\n",
        "    for i in range(sequence):\n",
        "      numbers.append(num + i)\n",
        "    tensor = torch.cat((tensor, torch.tensor(numbers).reshape(1, -1)), 0)\n",
        "  return tensor[1:].to(torch.long)"
      ],
      "execution_count": 32,
      "outputs": []
    },
    {
      "cell_type": "code",
      "metadata": {
        "id": "sWngxyKWY5CS",
        "colab_type": "code",
        "colab": {
          "base_uri": "https://localhost:8080/",
          "height": 394
        },
        "outputId": "f7de4e6f-2ef9-4f34-dae7-66fc0a231272"
      },
      "source": [
        "decoder = Decoder()\n",
        "CEL = nn.CrossEntropyLoss()\n",
        "optimizer = torch.optim.SGD(decoder.parameters(), lr=0.01, momentum=0.9)\n",
        "\n",
        "# 学習\n",
        "decoder.train()\n",
        "for i in range(2000):\n",
        "  data = getData()\n",
        "  x = data\n",
        "  y = data.reshape((-1)) + 1\n",
        "  decoder.hidden = decoder.init_hidden()\n",
        "  output = decoder(x)\n",
        "  loss = CEL(output, y)\n",
        "  optimizer.zero_grad()\n",
        "  loss.backward()\n",
        "  optimizer.step()\n",
        "  if(i + 1) % 100 == 0:\n",
        "    print(\"epoch :\", loss.item())\n"
      ],
      "execution_count": 48,
      "outputs": [
        {
          "output_type": "stream",
          "text": [
            "/usr/local/lib/python3.6/dist-packages/ipykernel_launcher.py:30: UserWarning: Implicit dimension choice for log_softmax has been deprecated. Change the call to include dim=X as an argument.\n"
          ],
          "name": "stderr"
        },
        {
          "output_type": "stream",
          "text": [
            "epoch : 3.8938605785369873\n",
            "epoch : 3.458599090576172\n",
            "epoch : 3.6787288188934326\n",
            "epoch : 3.4791998863220215\n",
            "epoch : 2.4073848724365234\n",
            "epoch : 1.8666175603866577\n",
            "epoch : 1.6187750101089478\n",
            "epoch : 0.8628924489021301\n",
            "epoch : 0.584494948387146\n",
            "epoch : 0.4138711988925934\n",
            "epoch : 0.2409854382276535\n",
            "epoch : 0.17669174075126648\n",
            "epoch : 0.2226695567369461\n",
            "epoch : 0.11096011102199554\n",
            "epoch : 0.1533803641796112\n",
            "epoch : 0.14232398569583893\n",
            "epoch : 0.1313129961490631\n",
            "epoch : 0.08420880883932114\n",
            "epoch : 0.08191785216331482\n",
            "epoch : 0.06722093373537064\n"
          ],
          "name": "stdout"
        }
      ]
    },
    {
      "cell_type": "code",
      "metadata": {
        "id": "pPfd5IS6fnSK",
        "colab_type": "code",
        "colab": {
          "base_uri": "https://localhost:8080/",
          "height": 139
        },
        "outputId": "f5e00a1d-db60-462b-d853-e5f253fd81a6"
      },
      "source": [
        "# Test\n",
        "decoder.eval()\n",
        "start = [[5]]\n",
        "test_tensor = torch.tensor(start)\n",
        "decoder.hidden = decoder.init_hidden()\n",
        "for i in range(sequence):\n",
        "  output = decoder(test_tensor[:, -1].reshape(1, 1))\n",
        "  number = torch.argmax(output).reshape(1, 1)\n",
        "  test_tensor = torch.cat((test_tensor, number), -1)\n",
        "  print(test_tensor[0])"
      ],
      "execution_count": 64,
      "outputs": [
        {
          "output_type": "stream",
          "text": [
            "tensor([5, 6])\n",
            "tensor([5, 6, 7])\n",
            "tensor([5, 6, 7, 8])\n",
            "tensor([5, 6, 7, 8, 9])\n",
            "tensor([ 5,  6,  7,  8,  9, 10])\n"
          ],
          "name": "stdout"
        },
        {
          "output_type": "stream",
          "text": [
            "/usr/local/lib/python3.6/dist-packages/ipykernel_launcher.py:30: UserWarning: Implicit dimension choice for log_softmax has been deprecated. Change the call to include dim=X as an argument.\n"
          ],
          "name": "stderr"
        }
      ]
    }
  ]
}