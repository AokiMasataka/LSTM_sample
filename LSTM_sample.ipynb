{
  "nbformat": 4,
  "nbformat_minor": 0,
  "metadata": {
    "colab": {
      "name": "LSTM_sample.ipynb",
      "provenance": [],
      "authorship_tag": "ABX9TyMEG7h1CbwJJTwPtxKvqz2F",
      "include_colab_link": true
    },
    "kernelspec": {
      "name": "python3",
      "display_name": "Python 3"
    }
  },
  "cells": [
    {
      "cell_type": "markdown",
      "metadata": {
        "id": "view-in-github",
        "colab_type": "text"
      },
      "source": [
        "<a href=\"https://colab.research.google.com/github/AokiMasataka/LSTM_sample/blob/master/LSTM_sample.ipynb\" target=\"_parent\"><img src=\"https://colab.research.google.com/assets/colab-badge.svg\" alt=\"Open In Colab\"/></a>"
      ]
    },
    {
      "cell_type": "code",
      "metadata": {
        "id": "McFmGTRJRzb_",
        "colab_type": "code",
        "colab": {
          "base_uri": "https://localhost:8080/",
          "height": 122
        },
        "outputId": "f958cd7f-48cb-4808-d227-92f6fac76f06"
      },
      "source": [
        "pip install -U torch torchvision"
      ],
      "execution_count": null,
      "outputs": [
        {
          "output_type": "stream",
          "text": [
            "Requirement already up-to-date: torch in /usr/local/lib/python3.6/dist-packages (1.6.0+cu101)\n",
            "Requirement already up-to-date: torchvision in /usr/local/lib/python3.6/dist-packages (0.7.0+cu101)\n",
            "Requirement already satisfied, skipping upgrade: future in /usr/local/lib/python3.6/dist-packages (from torch) (0.16.0)\n",
            "Requirement already satisfied, skipping upgrade: numpy in /usr/local/lib/python3.6/dist-packages (from torch) (1.18.5)\n",
            "Requirement already satisfied, skipping upgrade: pillow>=4.1.1 in /usr/local/lib/python3.6/dist-packages (from torchvision) (7.0.0)\n"
          ],
          "name": "stdout"
        }
      ]
    },
    {
      "cell_type": "code",
      "metadata": {
        "id": "4uaZqHUeSe5S",
        "colab_type": "code",
        "colab": {}
      },
      "source": [
        "import torch\n",
        "from torch import nn\n",
        "import numpy as np\n",
        "\n",
        "VOCAB_SIZE = 64\n",
        "EMBEDDING_DIM = 16\n",
        "HIDDEN_DIM = 64\n",
        "sequence = 5\n",
        "\n",
        "class Decoder(nn.Module):\n",
        "    def __init__(self):\n",
        "        super(Decoder, self).__init__()\n",
        "        self.word_embeddings = nn.Embedding(VOCAB_SIZE, EMBEDDING_DIM)\n",
        "        self.lstm = nn.LSTM(input_size=EMBEDDING_DIM, hidden_size=HIDDEN_DIM, batch_first=True, num_layers=1)\n",
        "        self.liner = nn.Linear(HIDDEN_DIM, VOCAB_SIZE)\n",
        "\n",
        "    def forward(self, sentence, hc=None):\n",
        "        embeds = self.word_embeddings(sentence)\n",
        "        _, (hn, cn) = self.lstm(embeds, hc)\n",
        "        output = self.liner(hn[0])\n",
        "        return output, (hn, cn)"
      ],
      "execution_count": null,
      "outputs": []
    },
    {
      "cell_type": "code",
      "metadata": {
        "id": "uKKR0t2LXa3z",
        "colab_type": "code",
        "colab": {}
      },
      "source": [
        "def getData(batch_size):\n",
        "  tensor = torch.zeros(sequence).reshape(1, -1)\n",
        "  for i in range(batch_size):\n",
        "    numbers = []\n",
        "    num = np.random.randint(0, VOCAB_SIZE - sequence)\n",
        "    for i in range(sequence):\n",
        "      numbers.append(num + i)\n",
        "    tensor = torch.cat((tensor, torch.tensor(numbers).reshape(1, -1)), 0)\n",
        "  return tensor[1:].to(torch.long)"
      ],
      "execution_count": 112,
      "outputs": []
    },
    {
      "cell_type": "code",
      "metadata": {
        "id": "sWngxyKWY5CS",
        "colab_type": "code",
        "colab": {}
      },
      "source": [
        "decoder = Decoder()\n",
        "criterion = nn.CrossEntropyLoss()\n",
        "optimizer = torch.optim.SGD(decoder.parameters(), lr=0.01, momentum=0.9)\n",
        "\n",
        "# 学習\n",
        "decoder.train()\n",
        "hc = None\n",
        "for i in range(2000):\n",
        "  data = getData(4)\n",
        "  x = data[:, :-1]\n",
        "  y = data[:, -1]\n",
        "  output, (h, c) = decoder(x, hc)\n",
        "  loss = criterion(output, y)\n",
        "  optimizer.zero_grad()\n",
        "  loss.backward()\n",
        "  optimizer.step()\n",
        "  if(i + 1) % 100 == 0:\n",
        "    print(\"epoch :\", loss.item())\n"
      ],
      "execution_count": null,
      "outputs": []
    },
    {
      "cell_type": "code",
      "metadata": {
        "id": "pPfd5IS6fnSK",
        "colab_type": "code",
        "colab": {}
      },
      "source": [
        "# Test\n",
        "decoder.eval()\n",
        "start = [[24]]\n",
        "test_tensor = torch.tensor(start)\n",
        "\n",
        "hc = None\n",
        "for i in range(sequence):\n",
        "  output, (h, c)= decoder(test_tensor, hc)\n",
        "  hc = (h, c)\n",
        "  number = torch.argmax(output).reshape(1, 1)\n",
        "  test_tensor = torch.cat((test_tensor, number), -1)\n",
        "  print(test_tensor[0])"
      ],
      "execution_count": null,
      "outputs": []
    }
  ]
}