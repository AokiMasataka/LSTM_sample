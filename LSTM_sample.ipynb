{
  "nbformat": 4,
  "nbformat_minor": 0,
  "metadata": {
    "colab": {
      "name": "LSTM_sample.ipynb",
      "provenance": [],
      "authorship_tag": "ABX9TyOrrXNIKZg+Aiu75XqQIhAK",
      "include_colab_link": true
    },
    "kernelspec": {
      "name": "python3",
      "display_name": "Python 3"
    }
  },
  "cells": [
    {
      "cell_type": "markdown",
      "metadata": {
        "id": "view-in-github",
        "colab_type": "text"
      },
      "source": [
        "<a href=\"https://colab.research.google.com/github/AokiMasataka/LSTM_sample/blob/master/LSTM_sample.ipynb\" target=\"_parent\"><img src=\"https://colab.research.google.com/assets/colab-badge.svg\" alt=\"Open In Colab\"/></a>"
      ]
    },
    {
      "cell_type": "code",
      "metadata": {
        "id": "McFmGTRJRzb_",
        "colab_type": "code",
        "colab": {
          "base_uri": "https://localhost:8080/",
          "height": 122
        },
        "outputId": "f958cd7f-48cb-4808-d227-92f6fac76f06"
      },
      "source": [
        "pip install -U torch torchvision"
      ],
      "execution_count": null,
      "outputs": [
        {
          "output_type": "stream",
          "text": [
            "Requirement already up-to-date: torch in /usr/local/lib/python3.6/dist-packages (1.6.0+cu101)\n",
            "Requirement already up-to-date: torchvision in /usr/local/lib/python3.6/dist-packages (0.7.0+cu101)\n",
            "Requirement already satisfied, skipping upgrade: future in /usr/local/lib/python3.6/dist-packages (from torch) (0.16.0)\n",
            "Requirement already satisfied, skipping upgrade: numpy in /usr/local/lib/python3.6/dist-packages (from torch) (1.18.5)\n",
            "Requirement already satisfied, skipping upgrade: pillow>=4.1.1 in /usr/local/lib/python3.6/dist-packages (from torchvision) (7.0.0)\n"
          ],
          "name": "stdout"
        }
      ]
    },
    {
      "cell_type": "code",
      "metadata": {
        "id": "4uaZqHUeSe5S",
        "colab_type": "code",
        "colab": {}
      },
      "source": [
        "import torch\n",
        "from torch import nn\n",
        "import numpy as np\n",
        "\n",
        "VOCAB_SIZE = 64\n",
        "EMBEDDING_DIM = 8\n",
        "sequence = 5\n",
        "\n",
        "class Decoder(nn.Module):\n",
        "    def __init__(self, hidden_dim=64):\n",
        "        super(Decoder, self).__init__()\n",
        "        self.hidden_dim = hidden_dim\n",
        "        self.word_embeddings = nn.Embedding(VOCAB_SIZE, EMBEDDING_DIM)\n",
        "        self.lstm = nn.LSTM(input_size=EMBEDDING_DIM, hidden_size=hidden_dim, batch_first=True, num_layers=1)\n",
        "        self.liner = nn.Linear(hidden_dim, VOCAB_SIZE)\n",
        "\n",
        "    def forward(self, sentence):\n",
        "        embeds = self.word_embeddings(sentence)\n",
        "        _, (h, c) = self.lstm(embeds)\n",
        "        output = self.liner(h[0])\n",
        "        return output"
      ],
      "execution_count": 46,
      "outputs": []
    },
    {
      "cell_type": "code",
      "metadata": {
        "id": "uKKR0t2LXa3z",
        "colab_type": "code",
        "colab": {}
      },
      "source": [
        "def getData():\n",
        "  numbers = []\n",
        "  num = np.random.randint(0, VOCAB_SIZE - sequence)\n",
        "  for i in range(sequence):\n",
        "    numbers.append(num + i)\n",
        "  return torch.tensor(numbers)"
      ],
      "execution_count": 47,
      "outputs": []
    },
    {
      "cell_type": "code",
      "metadata": {
        "id": "sWngxyKWY5CS",
        "colab_type": "code",
        "colab": {
          "base_uri": "https://localhost:8080/",
          "height": 187
        },
        "outputId": "f69026c7-2cc8-49cb-e8ea-7cb65c97f921"
      },
      "source": [
        "decoder = Decoder()\n",
        "criterion = nn.CrossEntropyLoss()\n",
        "optimizer = torch.optim.SGD(decoder.parameters(), lr=0.01, momentum=0.9)\n",
        "\n",
        "# 学習\n",
        "decoder.train()\n",
        "for i in range(1000):\n",
        "  data = getData()\n",
        "  x = data[:-1].reshape((1, -1))\n",
        "  y = data[-1].reshape(1)\n",
        "  h = decoder(x)\n",
        "  loss = criterion(h, y)\n",
        "  optimizer.zero_grad()\n",
        "  loss.backward()\n",
        "  optimizer.step()\n",
        "  if(i + 1) % 100 == 0:\n",
        "    print(\"epoch :\", loss.item())\n"
      ],
      "execution_count": 40,
      "outputs": [
        {
          "output_type": "stream",
          "text": [
            "epoch : 3.678983688354492\n",
            "epoch : 3.9468894004821777\n",
            "epoch : 3.368166923522949\n",
            "epoch : 4.024415969848633\n",
            "epoch : 3.798377752304077\n",
            "epoch : 3.547945737838745\n",
            "epoch : 1.9713499546051025\n",
            "epoch : 2.810211420059204\n",
            "epoch : 0.3674304187297821\n",
            "epoch : 1.6003410816192627\n"
          ],
          "name": "stdout"
        }
      ]
    },
    {
      "cell_type": "code",
      "metadata": {
        "id": "pPfd5IS6fnSK",
        "colab_type": "code",
        "colab": {
          "base_uri": "https://localhost:8080/"
        },
        "outputId": "a7a36197-82ea-43e9-96cc-851b66a7577a"
      },
      "source": [
        "# Test\n",
        "decoder.eval()\n",
        "start = [[3]]\n",
        "test_tensor = torch.tensor(start)\n",
        "\n",
        "for i in range(sequence):\n",
        "  h = decoder(test_tensor)\n",
        "  number = torch.argmax(h).reshape(1)\n",
        "  test_tensor = torch.cat((test_tensor, number), -1)\n",
        "  print(test_tensor)"
      ],
      "execution_count": 44,
      "outputs": [
        {
          "output_type": "error",
          "ename": "SyntaxError",
          "evalue": "ignored",
          "traceback": [
            "\u001b[0;36m  File \u001b[0;32m\"<ipython-input-44-a09d45d6283a>\"\u001b[0;36m, line \u001b[0;32m6\u001b[0m\n\u001b[0;31m    for i in range(sequence)\u001b[0m\n\u001b[0m                            ^\u001b[0m\n\u001b[0;31mSyntaxError\u001b[0m\u001b[0;31m:\u001b[0m invalid syntax\n"
          ]
        }
      ]
    }
  ]
}